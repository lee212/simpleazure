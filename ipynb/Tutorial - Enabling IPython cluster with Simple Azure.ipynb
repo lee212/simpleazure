{
 "metadata": {
  "name": "Tutorial - Enabling IPython cluster with Simple Azure"
 },
 "nbformat": 3,
 "nbformat_minor": 0,
 "worksheets": [
  {
   "cells": [
    {
     "cell_type": "markdown",
     "metadata": {},
     "source": "# Enabling IPython Cluster with Simple Azure\nIn this tutorial, automated functions of Simple Azure enable IPython Cluster on Windows Azure within a few steps."
    },
    {
     "cell_type": "markdown",
     "metadata": {},
     "source": "## Deploy virtual machines for clusters\nWe use Azure Data Science Core here to deploy ipython installed virtual machines on Windows Azure."
    },
    {
     "cell_type": "code",
     "collapsed": false,
     "input": "from simpleazure.simpleazure import SimpleAzure as saz",
     "language": "python",
     "metadata": {},
     "outputs": []
    },
    {
     "cell_type": "code",
     "collapsed": false,
     "input": "azure = saz()\nazure.get_config()",
     "language": "python",
     "metadata": {},
     "outputs": []
    },
    {
     "cell_type": "markdown",
     "metadata": {},
     "source": "## Create 3 nodes for IPython Cluster with ADSC\nIn a previous tutorial, you may learn how to deploy ADSC with Simple Azure. We use same steps here to have IPython Cluster.  \nIf you want to have more or less nodes, simply change the number of create_cluster() function."
    },
    {
     "cell_type": "code",
     "collapsed": false,
     "input": "adsc = azure.get_registered_image(name=\"Azure-Data-Science-Core\")\nazure.set_image(image=adsc)\nazure.set_location(\"West Europe\")\nazure.create_cluster(3)",
     "language": "python",
     "metadata": {},
     "outputs": []
    },
    {
     "cell_type": "markdown",
     "metadata": {},
     "source": "## Import IPython Plugin\nSimple Azure will load IPython Cluster through its plugin. ``plugin/`` directory will contain a plugin for an external software like IPython."
    },
    {
     "cell_type": "code",
     "collapsed": false,
     "input": "from simpleazure.plugin import ipython",
     "language": "python",
     "metadata": {},
     "outputs": []
    },
    {
     "cell_type": "code",
     "collapsed": false,
     "input": "ipy = ipython.IPython()",
     "language": "python",
     "metadata": {},
     "outputs": []
    },
    {
     "cell_type": "markdown",
     "metadata": {},
     "source": "## Configure ssh settings\nIPython Cluster will use SSH tunneling for communication between a master and engine node(s) so SSH setting is required first."
    },
    {
     "cell_type": "code",
     "collapsed": false,
     "input": "ipy.set_username(azure.get_username())\nipy.set_private_key(azure.get_pkey())",
     "language": "python",
     "metadata": {},
     "outputs": []
    },
    {
     "cell_type": "markdown",
     "metadata": {},
     "source": "# Set a master and engines\nThe master and engine node(s) should be defined.  \nWe will get the information from azure object that created the cluster."
    },
    {
     "cell_type": "code",
     "collapsed": false,
     "input": "from simpleazure import config\nmaster = config.get_azure_domain(azure.results['master'])\nengines = [ config.get_azure_domain(x) for x in azure.results.keys()]",
     "language": "python",
     "metadata": {},
     "outputs": []
    },
    {
     "cell_type": "markdown",
     "metadata": {},
     "source": "Then, we assign the names to ipython plugin."
    },
    {
     "cell_type": "code",
     "collapsed": false,
     "input": "ipy.set_master(master)\nipy.set_engines(engines)",
     "language": "python",
     "metadata": {},
     "outputs": []
    },
    {
     "cell_type": "markdown",
     "metadata": {},
     "source": "## Establish SSH\nNow we are ready to initialize IPython Cluster through SSH. There are some functions to do this task."
    },
    {
     "cell_type": "code",
     "collapsed": false,
     "input": "ipy.init_ssh()",
     "language": "python",
     "metadata": {},
     "outputs": []
    },
    {
     "cell_type": "markdown",
     "metadata": {},
     "source": "init_ssh() above makes paramiko objects to establish ssh.  \nconnect_nodes() actually make connections to nodes."
    },
    {
     "cell_type": "code",
     "collapsed": false,
     "input": "ipy.connect_nodes()",
     "language": "python",
     "metadata": {},
     "outputs": []
    },
    {
     "cell_type": "markdown",
     "metadata": {},
     "source": "## Create IPython profile\nWe will use a new profile for this cluster."
    },
    {
     "cell_type": "code",
     "collapsed": false,
     "input": "ipy.create_profile()",
     "language": "python",
     "metadata": {},
     "outputs": []
    },
    {
     "cell_type": "markdown",
     "metadata": {},
     "source": "## IPController on a master\nOnce you created the profile, you can run ipcontroller on the master node."
    },
    {
     "cell_type": "code",
     "collapsed": false,
     "input": "ipy.run_ipcontroller()",
     "language": "python",
     "metadata": {},
     "outputs": []
    },
    {
     "cell_type": "markdown",
     "metadata": {},
     "source": "# Configure engine node(s)\nYou need to let engine nodes know who the master is.  \nipcontroller-engin.json file on the master node helps get the information.  \nWe will copy the file to each node."
    },
    {
     "cell_type": "code",
     "collapsed": false,
     "input": "ipy.copy_pkey_to_nodes() # <- Temporary function to distribute id_rsa private key to node(s)\nipy.copy_json2engines()",
     "language": "python",
     "metadata": {},
     "outputs": []
    },
    {
     "cell_type": "markdown",
     "metadata": {},
     "source": "## IPEngine on engine(s)\nIt's close. The last step is to execute ipengine on each engine node so let them communicate with the master."
    },
    {
     "cell_type": "code",
     "collapsed": false,
     "input": "ipy.run_ipengine()",
     "language": "python",
     "metadata": {},
     "outputs": []
    },
    {
     "cell_type": "markdown",
     "metadata": {},
     "source": "It's finally done. You can now access to the master node and use IPython.parallel.Client module.  \nNote. thses steps can be replaced with a single wrapper function apply_ipcluster()."
    },
    {
     "cell_type": "code",
     "collapsed": false,
     "input": "ipy.apply_ipcluster(azure)",
     "language": "python",
     "metadata": {},
     "outputs": []
    }
   ],
   "metadata": {}
  }
 ]
}