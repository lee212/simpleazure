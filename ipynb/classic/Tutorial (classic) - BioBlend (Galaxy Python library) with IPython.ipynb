{
 "metadata": {
  "name": "Tutorial - BioBlend (Galaxy Python library) with IPython"
 },
 "nbformat": 3,
 "nbformat_minor": 0,
 "worksheets": [
  {
   "cells": [
    {
     "cell_type": "markdown",
     "metadata": {},
     "source": "# BioBlend with IPython"
    },
    {
     "cell_type": "markdown",
     "metadata": {},
     "source": "BioBlend is a python libary for Galaxy toolkits. It enables high level developments for deploying and deleting cloud instances for Galaxy in python.  Furthermore, it supports load and execute workflows on python in a simple format.  \nBioBlend: https://github.com/afgane/bioblend"
    },
    {
     "cell_type": "markdown",
     "metadata": {},
     "source": "An example for using BioBlend:\n\n    from bioblend.galaxy import GalaxyInstance\n    gi = GalaxyInstance('<Galaxy IP>', key='your API key')\n    libs = gi.libraries.get_libraries()\n    gi.workflows.show_workflow('workflow ID')\n    gi.workflows.run_workflow('workflow ID', input_dataset_map)"
    },
    {
     "cell_type": "markdown",
     "metadata": {},
     "source": "# Run a galaxy workflow through IPyhon Notebook\n\nThis tutorial shows how to use the BioBlend library with workflow examples so that python developers can use Galaxy tools on python and Ipython.  \n\n## Create Galaxy Instance using BioBlend\nThis step connects to a galaxy server using BioBlend. A server url and an api key are required to connect.    \nThe server url is a location for the installed galaxy server and the api key is an identification of a user. \n\nWe have installed a galaxy on a local machine with ipython. So, the galaxy url should be on a local ip address and a default port number 8080, e.g. http://127.0.0.1:8080.  \nIf you want to use a different galaxy server e.g. the public galaxy server hosted by Penn State University, use https://main.g2.bx.psu.edu/.  \nFor the galaxy_api_key, a galaxy user needs to get the string from here: http://[galaxy_server]/user/api_keys?cntrller=user  \nIt is like a password, so only logged in users can obtain the key. Here, I used the key ```d8699f27a08cc6f42a065e39955b6c47``` for my account on the local galaxy server."
    },
    {
     "cell_type": "code",
     "collapsed": false,
     "input": "from bioblend.galaxy import GalaxyInstance\n\ngalaxy_url = \"http://127.0.0.1:8080\"\ngalaxy_api_key = \"d8699f27a08cc6f42a065e39955b6c47\"\ngi = GalaxyInstance(url=galaxy_url, key=galaxy_api_key)",
     "language": "python",
     "metadata": {},
     "outputs": [],
     "prompt_number": 66
    },
    {
     "cell_type": "markdown",
     "metadata": {},
     "source": "## Test a connection with get_histories()\nOnce the connection is successfully established, obtaining galaxy histories is a good example to test it is working.  \nget_histories() returns a list of a current history for a logged in user."
    },
    {
     "cell_type": "code",
     "collapsed": false,
     "input": "hl = gi.histories.get_histories()\nhl",
     "language": "python",
     "metadata": {},
     "outputs": [
      {
       "output_type": "pyout",
       "prompt_number": 69,
       "text": "[{u'deleted': False,\n  u'id': u'df7a1f0c02a5b08e',\n  u'model_class': u'History',\n  u'name': u'Unnamed history',\n  u'published': True,\n  u'tags': [],\n  u'url': u'/api/histories/df7a1f0c02a5b08e'},\n {u'deleted': False,\n  u'id': u'5969b1f7201f12ae',\n  u'model_class': u'History',\n  u'name': u'Unnamed history',\n  u'published': False,\n  u'tags': [],\n  u'url': u'/api/histories/5969b1f7201f12ae'},\n {u'deleted': False,\n  u'id': u'a799d38679e985db',\n  u'model_class': u'History',\n  u'name': u'Unnamed history',\n  u'published': False,\n  u'tags': [],\n  u'url': u'/api/histories/a799d38679e985db'},\n {u'deleted': False,\n  u'id': u'33b43b4e7093c91f',\n  u'model_class': u'History',\n  u'name': u'Unnamed history',\n  u'published': False,\n  u'tags': [],\n  u'url': u'/api/histories/33b43b4e7093c91f'},\n {u'deleted': False,\n  u'id': u'ebfb8f50c6abde6d',\n  u'model_class': u'History',\n  u'name': u'Unnamed history',\n  u'published': False,\n  u'tags': [],\n  u'url': u'/api/histories/ebfb8f50c6abde6d'}]"
      }
     ],
     "prompt_number": 69
    },
    {
     "cell_type": "markdown",
     "metadata": {},
     "source": "Note.\n\nGalaxy has analytical tools based on Python. Each one of them has an id. For example, CONVERTER_interval_to_bedstrict_0  \nThe JSON Workflow file has section name \"tool_id\" for the id. e.g. https://gist.github.com/lee212/f1449352334a2268b849"
    },
    {
     "cell_type": "markdown",
     "metadata": {},
     "source": "## List saved workflows\nBioBlend supports basic functions to load and run workflows. \nget_workflows() returns a list of workflows that a galaxy user has.  "
    },
    {
     "cell_type": "code",
     "collapsed": false,
     "input": "workflows = gi.workflows.get_workflows()\nworkflows",
     "language": "python",
     "metadata": {},
     "outputs": [
      {
       "output_type": "pyout",
       "prompt_number": 14,
       "text": "[{u'id': u'f597429621d6eb2b',\n  u'model_class': u'StoredWorkflow',\n  u'name': u\"Workflow constructed from history 'Unnamed history'\",\n  u'published': True,\n  u'tags': [],\n  u'url': u'/api/workflows/f597429621d6eb2b'},\n {u'id': u'1cd8e2f6b131e891',\n  u'model_class': u'StoredWorkflow',\n  u'name': u'Galaxy 101 (imported from uploaded file)',\n  u'published': False,\n  u'tags': [],\n  u'url': u'/api/workflows/1cd8e2f6b131e891'}]"
      }
     ],
     "prompt_number": 14
    },
    {
     "cell_type": "markdown",
     "metadata": {},
     "source": "## Retrieve workflow information\nThere are two workflows stored in the database. Let's select the second workflow named 'Galaxy 101' and see what components it has.  \nshow_workflow() returns detailed information about a workflow such as an id and inputs."
    },
    {
     "cell_type": "code",
     "collapsed": false,
     "input": "workflow = workflows[1]\nres = gi.workflows.show_workflow(workflow['id'])\nres",
     "language": "python",
     "metadata": {},
     "outputs": [
      {
       "output_type": "pyout",
       "prompt_number": 72,
       "text": "{u'id': u'1cd8e2f6b131e891',\n u'inputs': {u'29': {u'label': u'Features', u'value': u''},\n  u'30': {u'label': u'Exons', u'value': u''}},\n u'model_class': u'StoredWorkflow',\n u'name': u'Galaxy 101 (imported from uploaded file)',\n u'published': False,\n u'steps': {u'24': {u'id': 24,\n   u'input_steps': {u'input1': {u'source_step': 30, u'step_output': u'output'},\n    u'input2': {u'source_step': 29, u'step_output': u'output'}},\n   u'tool_id': u'gops_join_1',\n   u'type': u'tool'},\n  u'25': {u'id': 25,\n   u'input_steps': {u'input': {u'source_step': 26,\n     u'step_output': u'out_file1'}},\n   u'tool_id': u'sort1',\n   u'type': u'tool'},\n  u'26': {u'id': 26,\n   u'input_steps': {u'input1': {u'source_step': 24,\n     u'step_output': u'output'}},\n   u'tool_id': u'Grouping1',\n   u'type': u'tool'},\n  u'27': {u'id': 27,\n   u'input_steps': {u'input1': {u'source_step': 30, u'step_output': u'output'},\n    u'input2': {u'source_step': 28, u'step_output': u'out_file1'}},\n   u'tool_id': u'comp1',\n   u'type': u'tool'},\n  u'28': {u'id': 28,\n   u'input_steps': {u'input': {u'source_step': 25,\n     u'step_output': u'out_file1'}},\n   u'tool_id': u'Show beginning1',\n   u'type': u'tool'},\n  u'29': {u'id': 29,\n   u'input_steps': {},\n   u'tool_id': None,\n   u'type': u'data_input'},\n  u'30': {u'id': 30,\n   u'input_steps': {},\n   u'tool_id': None,\n   u'type': u'data_input'}},\n u'tags': [],\n u'url': u'/api/workflows/1cd8e2f6b131e891'}"
      }
     ],
     "prompt_number": 72
    },
    {
     "cell_type": "markdown",
     "metadata": {},
     "source": "## Run workflow\nrun_workflow() executes the workflow with an input dataset into a selected history.  \nIt returns output dataset IDs which indicate the results of each step in the workflow."
    },
    {
     "cell_type": "code",
     "collapsed": false,
     "input": "dataset_map = {'30':{'id':'cbbbf59e8f08c98c','src':'hda'}, \\\n                '29': {'id': '964b37715ec9bd22', 'src': 'hda' }}\noutputs = gi.workflows.run_workflow(workflow['id'], dataset_map, history_id='df7a1f0c02a5b08e')#history_name='test1withhda')",
     "language": "python",
     "metadata": {},
     "outputs": [
      {
       "output_type": "pyout",
       "prompt_number": 49,
       "text": "{u'history': u'df7a1f0c02a5b08e',\n u'outputs': [u'6fc9fbb81c497f69',\n  u'6fb17d0cc6e8fae5',\n  u'5114a2a207b7caff',\n  u'06ec17aefa2d49dd',\n  u'b8a0d6158b9961df']}"
      }
     ],
     "prompt_number": 49
    },
    {
     "cell_type": "markdown",
     "metadata": {},
     "source": "There are two input datasets used and one of them is 'UCSC Main on Human: knownGene (chr22:1-51304566)'.  \nIts id 'cbbbf59e8f08c98c' displays detailed information for the input dataset."
    },
    {
     "cell_type": "code",
     "collapsed": false,
     "input": "dataset = gi.datasets.show_dataset('cbbbf59e8f08c98c')\ndataset",
     "language": "python",
     "metadata": {},
     "outputs": [
      {
       "output_type": "pyout",
       "prompt_number": 56,
       "text": "{u'accessible': True,\n u'api_type': u'file',\n u'data_type': u'bed',\n u'deleted': False,\n u'display_apps': [{u'label': u'display in IGB',\n   u'links': [{u'href': u'/display_application/cbbbf59e8f08c98c/igb_bed/Local',\n     u'target': u'_blank',\n     u'text': u'Local'},\n    {u'href': u'/display_application/cbbbf59e8f08c98c/igb_bed/Web',\n     u'target': u'_blank',\n     u'text': u'Web'}]},\n  {u'label': u'display at Ensembl',\n   u'links': [{u'href': u'/display_application/cbbbf59e8f08c98c/ensembl_interval/ensembl_Current',\n     u'target': u'_blank',\n     u'text': u'Current'}]},\n  {u'label': u'display at RViewer',\n   u'links': [{u'href': u'/display_application/cbbbf59e8f08c98c/rviewer_interval/lbl_main',\n     u'target': u'_blank',\n     u'text': u'main'}]}],\n u'display_types': [],\n u'download_url': u'/api/histories/df7a1f0c02a5b08e/contents/cbbbf59e8f08c98c/display',\n u'file_ext': u'bed',\n u'file_size': 797714,\n u'genome_build': u'hg19',\n u'hda_ldda': u'hda',\n u'hid': 1,\n u'history_id': u'df7a1f0c02a5b08e',\n u'id': u'cbbbf59e8f08c98c',\n u'metadata_chromCol': 1,\n u'metadata_column_names': None,\n u'metadata_column_types': [u'str', u'int', u'int', u'str', u'int', u'str'],\n u'metadata_columns': 6,\n u'metadata_comment_lines': None,\n u'metadata_data_lines': 12410,\n u'metadata_dbkey': u'hg19',\n u'metadata_endCol': 3,\n u'metadata_nameCol': 4,\n u'metadata_startCol': 2,\n u'metadata_strandCol': 6,\n u'metadata_viz_filter_cols': [4],\n u'misc_blurb': u'12,410 regions',\n u'misc_info': u'',\n u'model_class': u'HistoryDatasetAssociation',\n u'name': u'UCSC Main on Human: knownGene (chr22:1-51304566)',\n u'peek': u'<table cellspacing=\"0\" cellpadding=\"3\"><tr><th>1.Chrom</th><th>2.Start</th><th>3.End</th><th>4.Name</th><th>5</th><th>6.Strand</th></tr><tr><td>chr22</td><td>16258185</td><td>16258303</td><td>uc002zlh.1_cds_1_0_chr22_16258186_r</td><td>0</td><td>-</td></tr><tr><td>chr22</td><td>16266928</td><td>16267095</td><td>uc002zlh.1_cds_2_0_chr22_16266929_r</td><td>0</td><td>-</td></tr><tr><td>chr22</td><td>16268136</td><td>16268181</td><td>uc002zlh.1_cds_3_0_chr22_16268137_r</td><td>0</td><td>-</td></tr><tr><td>chr22</td><td>16269872</td><td>16269943</td><td>uc002zlh.1_cds_4_0_chr22_16269873_r</td><td>0</td><td>-</td></tr><tr><td>chr22</td><td>16275206</td><td>16275277</td><td>uc002zlh.1_cds_5_0_chr22_16275207_r</td><td>0</td><td>-</td></tr><tr><td>chr22</td><td>16277747</td><td>16277885</td><td>uc002zlh.1_cds_6_0_chr22_16277748_r</td><td>0</td><td>-</td></tr></table>',\n u'purged': False,\n u'state': u'ok',\n u'uuid': None,\n u'visible': True,\n u'visualizations': [u'trackster', u'circster', u'scatterplot']}"
      }
     ],
     "prompt_number": 56
    },
    {
     "cell_type": "markdown",
     "metadata": {},
     "source": "## Display outputs in IPython HTML"
    },
    {
     "cell_type": "code",
     "collapsed": false,
     "input": "from IPython.core.display import HTML",
     "language": "python",
     "metadata": {},
     "outputs": [],
     "prompt_number": 89
    },
    {
     "cell_type": "code",
     "collapsed": false,
     "input": "merged_htmls = \"\"\n\nfor output in outputs['outputs']:\n    dataset = gi.datasets.show_dataset(output)\n    #pprint.pprint(dataset)\n    name = dataset['name']\n    html = dataset['peek']\n    merged_htmls += \"<p><b>%s</b>\" % name + html + \"</p>\"\n    \nHTML(merged_htmls)",
     "language": "python",
     "metadata": {},
     "outputs": [
      {
       "html": "<p><b>Join on data 2 and data 1</b><table cellspacing=\"0\" cellpadding=\"3\"><tr><th>1.Chrom</th><th>2.Start</th><th>3.End</th><th>4.Name</th><th>5</th><th>6.Strand</th><th>7</th><th>8</th><th>9</th><th>10</th><th>11</th><th>12</th></tr><tr><td>chr22</td><td>16258185</td><td>16258303</td><td>uc002zlh.1_cds_1_0_chr22_16258186_r</td><td>0</td><td>-</td><td>chr22</td><td>16258278</td><td>16258279</td><td>rs2845178</td><td>0</td><td>+</td></tr><tr><td>chr22</td><td>16266928</td><td>16267095</td><td>uc002zlh.1_cds_2_0_chr22_16266929_r</td><td>0</td><td>-</td><td>chr22</td><td>16267031</td><td>16267032</td><td>rs7292200</td><td>0</td><td>+</td></tr><tr><td>chr22</td><td>16266928</td><td>16267095</td><td>uc002zlh.1_cds_2_0_chr22_16266929_r</td><td>0</td><td>-</td><td>chr22</td><td>16266963</td><td>16266964</td><td>rs10154680</td><td>0</td><td>+</td></tr><tr><td>chr22</td><td>16266928</td><td>16267095</td><td>uc002zlh.1_cds_2_0_chr22_16266929_r</td><td>0</td><td>-</td><td>chr22</td><td>16267011</td><td>16267012</td><td>rs7290262</td><td>0</td><td>+</td></tr><tr><td>chr22</td><td>16266928</td><td>16267095</td><td>uc002zlh.1_cds_2_0_chr22_16266929_r</td><td>0</td><td>-</td><td>chr22</td><td>16267037</td><td>16267038</td><td>rs2818572</td><td>0</td><td>+</td></tr><tr><td>chr22</td><td>16269872</td><td>16269943</td><td>uc002zlh.1_cds_4_0_chr22_16269873_r</td><td>0</td><td>-</td><td>chr22</td><td>16269933</td><td>16269934</td><td>rs2845206</td><td>0</td><td>+</td></tr></table></p><p><b>Group on data 8</b><table cellspacing=\"0\" cellpadding=\"3\"><tr><th>1</th><th>2</th></tr><tr><td>uc002zlh.1_cds_1_0_chr22_16258186_r</td><td>1</td></tr><tr><td>uc002zlh.1_cds_2_0_chr22_16266929_r</td><td>4</td></tr><tr><td>uc002zlh.1_cds_4_0_chr22_16269873_r</td><td>1</td></tr><tr><td>uc002zlh.1_cds_5_0_chr22_16275207_r</td><td>2</td></tr><tr><td>uc002zlh.1_cds_6_0_chr22_16277748_r</td><td>5</td></tr><tr><td>uc002zlh.1_cds_7_0_chr22_16279195_r</td><td>2</td></tr></table></p><p><b>Sort on data 9</b><table cellspacing=\"0\" cellpadding=\"3\"><tr><th>1</th><th>2</th></tr><tr><td>uc010gsw.2_cds_1_0_chr22_21480537_r</td><td>67</td></tr><tr><td>uc021wmb.1_cds_0_0_chr22_21480537_r</td><td>67</td></tr><tr><td>uc002zoc.3_cds_0_0_chr22_18834445_f</td><td>58</td></tr><tr><td>uc021wnd.1_cds_0_0_chr22_24647973_f</td><td>50</td></tr><tr><td>uc021wmc.1_cds_0_0_chr22_21637809_f</td><td>47</td></tr><tr><td>uc003bhh.3_cds_0_0_chr22_46652458_r</td><td>46</td></tr></table></p><p><b>Select first on data 10</b><table cellspacing=\"0\" cellpadding=\"3\"><tr><th>1</th><th>2</th></tr><tr><td>uc010gsw.2_cds_1_0_chr22_21480537_r</td><td>67</td></tr><tr><td>uc021wmb.1_cds_0_0_chr22_21480537_r</td><td>67</td></tr><tr><td>uc002zoc.3_cds_0_0_chr22_18834445_f</td><td>58</td></tr><tr><td>uc021wnd.1_cds_0_0_chr22_24647973_f</td><td>50</td></tr><tr><td>uc021wmc.1_cds_0_0_chr22_21637809_f</td><td>47</td></tr></table></p><p><b>top 5 exons</b><table cellspacing=\"0\" cellpadding=\"3\"><tr><th>1.Chrom</th><th>2.Start</th><th>3.End</th><th>4.Name</th><th>5</th><th>6.Strand</th></tr><tr><td>chr22</td><td>18834444</td><td>18835833</td><td>uc002zoc.3_cds_0_0_chr22_18834445_f</td><td>0</td><td>+</td></tr><tr><td>chr22</td><td>21480536</td><td>21481925</td><td>uc010gsw.2_cds_1_0_chr22_21480537_r</td><td>0</td><td>-</td></tr><tr><td>chr22</td><td>21480536</td><td>21481925</td><td>uc021wmb.1_cds_0_0_chr22_21480537_r</td><td>0</td><td>-</td></tr><tr><td>chr22</td><td>21637808</td><td>21638558</td><td>uc021wmc.1_cds_0_0_chr22_21637809_f</td><td>0</td><td>+</td></tr><tr><td>chr22</td><td>24647972</td><td>24649256</td><td>uc021wnd.1_cds_0_0_chr22_24647973_f</td><td>0</td><td>+</td></tr></table></p>",
       "output_type": "pyout",
       "prompt_number": 116,
       "text": "<IPython.core.display.HTML at 0x241d650>"
      }
     ],
     "prompt_number": 116
    },
    {
     "cell_type": "markdown",
     "metadata": {},
     "source": "[comment]: <> (<!---\n\nPlans\n\n* create pipelines and workflows in python\n * create functions by wrapping python scripts with parameters  \n   e.g. join(a,b,c) <= join.py a=1 b=2 c=3\n * how to handle outputs?\n* display workflows in ipython?\n * html for javascript and iframe\n * can we do like matplotlib?\n-->\n)We successfully executed the workflow on Python with BioBlend and displayed the results on IPython."
    }
   ],
   "metadata": {}
  }
 ]
}
