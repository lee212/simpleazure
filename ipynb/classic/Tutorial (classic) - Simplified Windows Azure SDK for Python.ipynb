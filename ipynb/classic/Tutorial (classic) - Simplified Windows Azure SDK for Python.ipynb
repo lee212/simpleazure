{
 "metadata": {
  "name": "Tutorial - Simplified Windows Azure SDK for Python"
 },
 "nbformat": 3,
 "nbformat_minor": 0,
 "worksheets": [
  {
   "cells": [
    {
     "cell_type": "markdown",
     "metadata": {},
     "source": "# Simplified Windows Azure SDK \n\nSimple Azure provides a wrapper function to Windows Azure SDK for Python so that many steps can be reduced and hidden with default configurations.  \n\nThis tutorial provide a basic step to deploy a default virtual machine using Simple Azure."
    },
    {
     "cell_type": "markdown",
     "metadata": {},
     "source": "## Import Simple Azure package"
    },
    {
     "cell_type": "code",
     "collapsed": false,
     "input": "from simpleazure.simpleazure import SimpleAzure as saz",
     "language": "python",
     "metadata": {},
     "outputs": [],
     "prompt_number": 1
    },
    {
     "cell_type": "markdown",
     "metadata": {},
     "source": "## Load certificates\nSimple Azure loads a default setting from a profile. ``$HOME/.azure`` directory keeps a certificate and a configuration for azure-cli \nso Simple Azure refers the directory to get access information such as a .cer file and a subscription id. "
    },
    {
     "cell_type": "code",
     "collapsed": false,
     "input": "azure = saz()\nazure.get_config()",
     "language": "python",
     "metadata": {},
     "outputs": [],
     "prompt_number": 2
    },
    {
     "cell_type": "markdown",
     "metadata": {},
     "source": "Note.  \nget_config() includes cert.getSubscription() and cert.getManagementCertFile().  \nIn IPython Notebook, adding *?* or *??* to the end of a function name provides docstrings and source code on a hidden cell like below."
    },
    {
     "cell_type": "code",
     "collapsed": false,
     "input": "azure.get_config?",
     "language": "python",
     "metadata": {},
     "outputs": [],
     "prompt_number": 6
    },
    {
     "cell_type": "markdown",
     "metadata": {},
     "source": "## Create a default virtual machine\ncreate_vm() requests to deploy a virtual machine and returns a request id."
    },
    {
     "cell_type": "code",
     "collapsed": false,
     "input": "result = azure.create_vm()",
     "language": "python",
     "metadata": {},
     "outputs": []
    },
    {
     "cell_type": "markdown",
     "metadata": {},
     "source": "## Check status of the deployment\nDeploying a virtual machine may take several minutes to be completed and you can check the status with the request id."
    },
    {
     "cell_type": "code",
     "collapsed": false,
     "input": "vars(azure.get_status())",
     "language": "python",
     "metadata": {},
     "outputs": [
      {
       "output_type": "pyout",
       "prompt_number": 7,
       "text": "{'error': None, 'http_status_code': u'200', 'id': u'', 'status': u'Succeeded'}"
      }
     ],
     "prompt_number": 7
    },
    {
     "cell_type": "markdown",
     "metadata": {},
     "source": "If the status above indicates 'Succeeded', your request has been successfully accepted and Window Azure is working on deploying the virtual machine.  "
    },
    {
     "cell_type": "markdown",
     "metadata": {},
     "source": "### Detail information of the deployment\n\nYou can check the status of the deployed virtual machine and get a hostname of the VM and so on. You can check other information below."
    },
    {
     "cell_type": "code",
     "collapsed": false,
     "input": "vars(azure.get_deployment())",
     "language": "python",
     "metadata": {},
     "outputs": [
      {
       "output_type": "pyout",
       "prompt_number": 6,
       "text": "{'configuration': u'<ServiceConfiguration xmlns:xsd=\"http://www.w3.org/2001/XMLSchema\" xmlns:xsi=\"http://www.w3.org/2001/XMLSchema-instance\" xmlns=\"http://schemas.microsoft.com/ServiceHosting/2008/10/ServiceConfiguration\">\\r\\n  <Role name=\"myvm-20735\">\\r\\n    <Instances count=\"1\" />\\r\\n  </Role>\\r\\n</ServiceConfiguration>',\n 'created_time': u'2013-07-22T16:10:18Z',\n 'deployment_slot': u'Production',\n 'extended_properties': {},\n 'input_endpoint_list': None,\n 'label': u'bXl2bS0yMDczNQ==',\n 'last_modified_time': u'',\n 'locked': False,\n 'name': u'myvm-20735',\n 'persistent_vm_downtime_info': None,\n 'private_id': u'17071ce8bea345cf9451835c8510c84a',\n 'role_instance_list': <azure.servicemanagement.RoleInstanceList at 0x333b5d0>,\n 'role_list': <azure.servicemanagement.RoleList at 0x333b610>,\n 'rollback_allowed': False,\n 'sdk_version': u'',\n 'status': u'Running',\n 'upgrade_domain_count': u'1',\n 'upgrade_status': None,\n 'url': u'http://myvm-20735.cloudapp.net/'}"
      }
     ],
     "prompt_number": 6
    },
    {
     "cell_type": "markdown",
     "metadata": {},
     "source": "If you see 'status' is *Running*, your virtual machine is ready to use. You can access to the machine via SSH."
    },
    {
     "cell_type": "markdown",
     "metadata": {},
     "source": "Note.  \n\nazure.create_vm() contains several sdk functions like as follows:\n```\nsms = ServiceManagementService(subscription_id, certificate_path)\nsms.create_hosted_service(service_name=name, label=name, location=location)\nlinux_config = LinuxConfigurationSet(name, linux_user_id, linux_user_passwd, False)\nlinux_config.ssh.public_keys.public_keys.append(publickey)\nlinux_config.ssh.key_pairs.key_pairs.append(keypair)\nnetwork = ConfigurationSet()\nnetwork.configuration_set_type = 'NetworkConfiguration'\nnetwork.input_endpoints.input_endpoints.append(ConfigurationSetInputEndpoint('ssh', 'tcp', '22', '22'))\ncert_res = sms.add_service_certificate(service_name=name, data=cert_data, certificate_format=cert_format, password=cert_password)\nresult = sms.create_virtual_machine_deployment(service_name=name, deployment_name=name, deployment_slot='production', label=name, role_name=name, system_config=linux_config, os_virtual_hard_disk=os_hd, network_config=network, role_size='Small')\n```\n\nIf you want to see the current implementation,   \nazure.create_vm?? below will diplay the source code of the function in IPython Notebook."
    },
    {
     "cell_type": "code",
     "collapsed": false,
     "input": "azure.create_vm??",
     "language": "python",
     "metadata": {},
     "outputs": [],
     "prompt_number": 8
    },
    {
     "cell_type": "markdown",
     "metadata": {},
     "source": "## Multiple deployment\ncreate_cluster() function helps to deploy several machines at once. You need to simply specify the number of clusters as a parameter."
    },
    {
     "cell_type": "code",
     "collapsed": false,
     "input": "azure.create_cluster(num=4)",
     "language": "python",
     "metadata": {},
     "outputs": [],
     "prompt_number": 8
    },
    {
     "cell_type": "markdown",
     "metadata": {},
     "source": "There are other functions to utilize virtual machine images from the communnity (VM DEPOT) and communicate master and engine node(s) of clusters.  \nOther tutorials will explain how to use the other functions."
    }
   ],
   "metadata": {}
  }
 ]
}