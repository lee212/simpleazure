{
 "metadata": {
  "name": "Tutorial - Deploying multiple VMs"
 },
 "nbformat": 3,
 "nbformat_minor": 0,
 "worksheets": [
  {
   "cells": [
    {
     "cell_type": "markdown",
     "metadata": {},
     "source": "# Deploying multiple Virtual Machines\n\nThis tutorial explains how to create a number of VMs at one time.  \n\n* Ubuntu 12.04 uses in this tutorial but it can be changed easily.  \n* Python parallel processing helps the concurrency of execution."
    },
    {
     "cell_type": "markdown",
     "metadata": {},
     "source": "## Specify the number of VMs\nLet's create 5 virtual machines by specifying NUM=5 variable below.\n\n*If you made changes, plese make sure you run the selected IPython Notebook cell by 'ctrl + Enter'*"
    },
    {
     "cell_type": "code",
     "collapsed": false,
     "input": "NUM=5",
     "language": "python",
     "metadata": {},
     "outputs": [],
     "prompt_number": 2
    },
    {
     "cell_type": "markdown",
     "metadata": {},
     "source": "## Initialize Python SDK\nThere are several steps to initialize for example, loading credentials, etc."
    },
    {
     "cell_type": "code",
     "collapsed": false,
     "input": "from azure import *",
     "language": "python",
     "metadata": {},
     "outputs": [],
     "prompt_number": 3
    },
    {
     "cell_type": "code",
     "collapsed": false,
     "input": "import os\nimport json\n\nclass Credentials(object):\n    '''\n    Azure credentials needed to run Azure.\n    '''\n    def __init__(self):\n        configFilename = os.environ[\"HOME\"] + \"/.azure/config.json\"\n        tmpName = os.path.join(os.getcwd(), configFilename)\n        \n        if not os.path.exists(tmpName):\n            errMsg = \"Cannot run Azure when the expected config file containing Azure credentials, '%s', does not exist!\" % (tmpName)\n            raise EnvironmentError(errMsg)\n\n        with open(tmpName, \"r\") as f:\n            self.ns = json.load(f)\n        self.config_path = os.path.dirname(tmpName)\n\n    def getManagementCertFile(self):\n        try:\n            return self.ns[u'managementcertfile'] \n        except:\n            return self.config_path + \"/managementCertificate.pem\"\n    def getSubscriptionId(self):\n        return self.ns[u'subscriptionid'] \n\n    def getSubscription(self):\n        return self.ns[u'subscription'] \n    \n    def getServiceBusKey(self):\n        return self.ns[u'servicebuskey'] \n\n    def getServiceBusNamespace(self):\n        return self.ns[u'servicebusns']\n\n    def getStorageServicesKey(self):\n        return self.ns[u'storageserviceskey']\n\n    def getStorageServicesName(self):\n        return self.ns[u'storageservicesname']\n\n    def getLinuxOSVHD(self):\n        return self.ns[u'linuxosvhd']\n\n    def getProxyHost(self):\n        return self.ns[u'proxyhost']\n\n    def getProxyPort(self):\n        return self.ns[u'proxyport']",
     "language": "python",
     "metadata": {},
     "outputs": [],
     "prompt_number": 28
    },
    {
     "cell_type": "code",
     "collapsed": false,
     "input": "cert = Credentials()\n\nsubscription_id = cert.getSubscription()\ncertificate_path = cert.getManagementCertFile()",
     "language": "python",
     "metadata": {},
     "outputs": [
      {
       "output_type": "pyout",
       "prompt_number": 29,
       "text": "u'a6ca42fe-74c7-43e9-a441-0ab9906441da'"
      }
     ],
     "prompt_number": 29
    },
    {
     "cell_type": "code",
     "collapsed": false,
     "input": "from azure.servicemanagement import *\n\nsms = ServiceManagementService(subscription_id, certificate_path)",
     "language": "python",
     "metadata": {},
     "outputs": [],
     "prompt_number": 30
    },
    {
     "cell_type": "code",
     "collapsed": false,
     "input": "name = 'myvm-cluster-'\n# In my case, I need to use 'Central US' location instead of 'West US' due to the location constraint of my subscription.\nlocation = \"Central US\"",
     "language": "python",
     "metadata": {},
     "outputs": [],
     "prompt_number": 49
    },
    {
     "cell_type": "code",
     "collapsed": false,
     "input": "result = sms.list_os_images()\nfor image in result:\n    if image.os == \"Linux\":\n        if image.category == \"Canonical\":\n            try:\n                if image.label.index(\"12.04\"):\n                    image_name = image.name\n            except:\n                pass",
     "language": "python",
     "metadata": {},
     "outputs": [],
     "prompt_number": 32
    },
    {
     "cell_type": "code",
     "collapsed": false,
     "input": "result = sms.list_storage_accounts()\nfor account in result:\n    storage_account = account.service_name",
     "language": "python",
     "metadata": {},
     "outputs": [],
     "prompt_number": 33
    },
    {
     "cell_type": "code",
     "collapsed": false,
     "input": "container = \"cluster\"\nblob = \"ubuntu-12-04.vhd\"",
     "language": "python",
     "metadata": {},
     "outputs": [],
     "prompt_number": 34
    },
    {
     "cell_type": "code",
     "collapsed": false,
     "input": "windows_blob_url = \"blob.core.windows.net\"\nmedia_link = \"http://\" + storage_account + \".\" + windows_blob_url + \"/\" + container + \"/\" + blob",
     "language": "python",
     "metadata": {},
     "outputs": [],
     "prompt_number": 35
    },
    {
     "cell_type": "code",
     "collapsed": false,
     "input": "#os_hd = OSVirtualHardDisk(image_name, media_link)",
     "language": "python",
     "metadata": {},
     "outputs": [],
     "prompt_number": 12
    },
    {
     "cell_type": "code",
     "collapsed": false,
     "input": "linux_user_id = 'azureuser'\nlinux_user_passwd = 'mypassword1234@'\nlinux_config = LinuxConfigurationSet(name, linux_user_id, linux_user_passwd, False)",
     "language": "python",
     "metadata": {},
     "outputs": [],
     "prompt_number": 36
    },
    {
     "cell_type": "code",
     "collapsed": false,
     "input": "azure_config = os.environ[\"HOME\"] + '/.azure'\nthumbprint_path = azure_config + '/.ssh/thumbprint'\nauthorized_keys = \"/home/\" + linux_user_id + \"/.ssh/authorized_keys\"",
     "language": "python",
     "metadata": {},
     "outputs": [],
     "prompt_number": 37
    },
    {
     "cell_type": "code",
     "collapsed": false,
     "input": "try:\n    thumbprint=open(thumbprint_path, 'r').readline().split('\\n')[0]\nexcept:\n    thumbprint=None",
     "language": "python",
     "metadata": {},
     "outputs": [],
     "prompt_number": 38
    },
    {
     "cell_type": "code",
     "collapsed": false,
     "input": "publickey = PublicKey(thumbprint, authorized_keys)\n#keypair = KeyPair(thumbprint, key_pair_path)\n\nlinux_config.ssh.public_keys.public_keys.append(publickey)\n#linux_config.ssh.key_pairs.key_pairs.append(keypair)",
     "language": "python",
     "metadata": {},
     "outputs": [],
     "prompt_number": 39
    },
    {
     "cell_type": "code",
     "collapsed": false,
     "input": "network = ConfigurationSet()\nnetwork.configuration_set_type = 'NetworkConfiguration'\nnetwork.input_endpoints.input_endpoints.append(ConfigurationSetInputEndpoint('ssh', 'tcp', '22', '22'))",
     "language": "python",
     "metadata": {},
     "outputs": [],
     "prompt_number": 40
    },
    {
     "cell_type": "code",
     "collapsed": false,
     "input": "import base64\ncert_data_path = azure_config + \"/.ssh/myCert.pfx\"\nwith open(cert_data_path, \"rb\") as bfile:\n    cert_data = base64.b64encode(bfile.read())",
     "language": "python",
     "metadata": {},
     "outputs": [],
     "prompt_number": 41
    },
    {
     "cell_type": "code",
     "collapsed": false,
     "input": "cert_format = 'pfx'\ncert_password = ''",
     "language": "python",
     "metadata": {},
     "outputs": [],
     "prompt_number": 43
    },
    {
     "cell_type": "code",
     "collapsed": false,
     "input": "from time import sleep",
     "language": "python",
     "metadata": {},
     "outputs": [],
     "prompt_number": 55
    },
    {
     "cell_type": "code",
     "collapsed": false,
     "input": "## Create Virtual Machines",
     "language": "python",
     "metadata": {},
     "outputs": []
    },
    {
     "cell_type": "code",
     "collapsed": false,
     "input": "%time\nresults = []\nresults_cert = []\nfor num in range(NUM):\n    new_name = name + str(num)\n    media_link = \"http://\" + storage_account + \".\" + windows_blob_url + \"/\" + container + \"/0-\" + new_name + \"-\" + blob\n    res = sms.create_hosted_service(service_name=new_name, label=new_name, location=location)\n    sleep(5)    \n    os_hd = OSVirtualHardDisk(image_name, media_link)\n    result_cert = sms.add_service_certificate(service_name=new_name,\n                            data=cert_data,\n                            certificate_format=cert_format,\n                            password=cert_password)\n    print new_name\n    try:\n        print vars(result_cert)\n    except:\n        print result_cert\n    sleep(5)\n    result = sms.create_virtual_machine_deployment(service_name=new_name,\n        deployment_name=new_name,\n        deployment_slot='production',\n        label=new_name,\n        role_name=new_name,\n        system_config=linux_config,\n        os_virtual_hard_disk=os_hd,\n        network_config=network,\n        role_size='Small')\n    results.append(result)\n    results_cert.append(result_cert)",
     "language": "python",
     "metadata": {},
     "outputs": [
      {
       "output_type": "stream",
       "stream": "stdout",
       "text": "CPU times: user 0.00 s, sys: 0.00 s, total: 0.00 s\nWall time: 0.00 s\nNone"
      },
      {
       "output_type": "stream",
       "stream": "stdout",
       "text": "\nmyvm-cluster-0"
      },
      {
       "output_type": "stream",
       "stream": "stdout",
       "text": "\n{'request_id': '0056d895294843e096934c241775aedd'}\nNone"
      },
      {
       "output_type": "stream",
       "stream": "stdout",
       "text": "\nmyvm-cluster-1"
      },
      {
       "output_type": "stream",
       "stream": "stdout",
       "text": "\n{'request_id': 'e97f3dd72416489bb580bde117ed301b'}\nNone"
      },
      {
       "output_type": "stream",
       "stream": "stdout",
       "text": "\nmyvm-cluster-2"
      },
      {
       "output_type": "stream",
       "stream": "stdout",
       "text": "\n{'request_id': 'b3d281ba956b47869308b6a50092aecf'}\nNone"
      },
      {
       "output_type": "stream",
       "stream": "stdout",
       "text": "\nmyvm-cluster-3"
      },
      {
       "output_type": "stream",
       "stream": "stdout",
       "text": "\n{'request_id': '13cdae8231b94a13933dd43b8c0f0d7a'}\nNone"
      }
     ],
     "prompt_number": "*"
    },
    {
     "cell_type": "code",
     "collapsed": false,
     "input": "for result in results:\n    request_id = result.request_id\n    status = sms.get_operation_status(request_id)\n    try:\n        print vars(status.error)\n    except:\n        print vars(status)",
     "language": "python",
     "metadata": {},
     "outputs": []
    }
   ],
   "metadata": {}
  }
 ]
}