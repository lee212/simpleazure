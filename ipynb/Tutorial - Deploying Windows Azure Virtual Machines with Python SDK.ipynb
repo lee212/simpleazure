{
 "metadata": {
  "name": "Tutorial - Deploying Windows Azure Virtual Machines with Python SDK"
 },
 "nbformat": 3,
 "nbformat_minor": 0,
 "worksheets": [
  {
   "cells": [
    {
     "cell_type": "markdown",
     "metadata": {},
     "source": "Tutorial 1. how to deploy Window Azure Virtual Machines with Python\n==================================================================="
    },
    {
     "cell_type": "markdown",
     "metadata": {},
     "source": "In a nutshell, create_virtual_machine_deployment() launches a virtual machine instance on Windows Azure.  \nIt requires to prepare and configure the four steps prior to execute and the functions are as follow:\n\n* Obtaining credentials: **ServiceManagementService()**\n* Creating Cloud Services: **create_hosted_service()**\n* Specifying blob storage **Services: OSVirtualHardDisk()**\n* Configuring access information for a virtual machine: **LinuxConfigurationSet() or WindowsConfigurationSet()**\n\nPrerequisite\n\n* Python SDK for Windows Azure (pip install azure)"
    },
    {
     "cell_type": "markdown",
     "metadata": {},
     "source": "Import Python SDK for Azure\n--------------------------------------------"
    },
    {
     "cell_type": "markdown",
     "metadata": {},
     "source": "Let's continue to create a virtual machine on Windows Azure.  \nThere is a tutorial for this step on the web: \nhttp://www.windowsazure.com/en-us/develop/python/how-to-guides/service-management/#CreateVM"
    },
    {
     "cell_type": "markdown",
     "metadata": {},
     "source": "It seems we need to import azure python package first. Let's test if it's installed."
    },
    {
     "cell_type": "code",
     "collapsed": false,
     "input": "from azure import *",
     "language": "python",
     "metadata": {},
     "outputs": [],
     "prompt_number": 184
    },
    {
     "cell_type": "markdown",
     "metadata": {},
     "source": "Is it working fine without seeing errors?\nOtherwise python sdk needs to be installed from pip installation or the github repository directly."
    },
    {
     "cell_type": "markdown",
     "metadata": {},
     "source": "Configure Certificate and Subscription id\n--------------------------------------------"
    },
    {
     "cell_type": "markdown",
     "metadata": {},
     "source": "python sdk needs to know your subscrition id and certificate file path to create a virtual machine.\n\n* If you need to create and upload a Management Certificate, please read here: http://msdn.microsoft.com/en-us/library/windowsazure/gg551722.aspx\n"
    },
    {
     "cell_type": "code",
     "collapsed": false,
     "input": "subscription_id = \"\"\ncertificate_path = \"\"",
     "language": "python",
     "metadata": {},
     "outputs": [],
     "prompt_number": 185
    },
    {
     "cell_type": "markdown",
     "metadata": {},
     "source": "We are not going to explicitly describe the credential here. Instead, we assume we have setup azure-cli tool and the credentials are in ~/.azure directory.  \n~/.azure/config.json has the information and the .pem file is also in the directory.\n\nThe following code snippet for credentials is from azure-sdk-for-python/test/azuretest/util.py with a slight change. https://github.com/WindowsAzure/azure-sdk-for-python/blob/master/test/azuretest/util.py"
    },
    {
     "cell_type": "code",
     "collapsed": false,
     "input": "import os\nimport json\n\nclass Credentials(object):\n    '''\n    Azure credentials needed to run Azure.\n    '''\n    def __init__(self):\n        configFilename = os.environ[\"HOME\"] + \"/.azure/config.json\"\n        tmpName = os.path.join(os.getcwd(), configFilename)\n        \n        if not os.path.exists(tmpName):\n            errMsg = \"Cannot run Azure when the expected config file containing Azure credentials, '%s', does not exist!\" % (tmpName)\n            raise EnvironmentError(errMsg)\n\n        with open(tmpName, \"r\") as f:\n            self.ns = json.load(f)\n        self.config_path = os.path.dirname(tmpName)\n\n    def getManagementCertFile(self):\n        try:\n            return self.ns[u'managementcertfile'] \n        except:\n            return self.config_path + \"/managementCertificate.pem\"\n    def getSubscriptionId(self):\n        return self.ns[u'subscriptionid'] \n\n    def getSubscription(self):\n        return self.ns[u'subscription'] \n    \n    def getServiceBusKey(self):\n        return self.ns[u'servicebuskey'] \n\n    def getServiceBusNamespace(self):\n        return self.ns[u'servicebusns']\n\n    def getStorageServicesKey(self):\n        return self.ns[u'storageserviceskey']\n\n    def getStorageServicesName(self):\n        return self.ns[u'storageservicesname']\n\n    def getLinuxOSVHD(self):\n        return self.ns[u'linuxosvhd']\n\n    def getProxyHost(self):\n        return self.ns[u'proxyhost']\n\n    def getProxyPort(self):\n        return self.ns[u'proxyport']",
     "language": "python",
     "metadata": {},
     "outputs": [],
     "prompt_number": 186
    },
    {
     "cell_type": "code",
     "collapsed": false,
     "input": "cert = Credentials()\n\nsubscription_id = cert.getSubscription()\ncertificate_path = cert.getManagementCertFile()",
     "language": "python",
     "metadata": {},
     "outputs": [],
     "prompt_number": 187
    },
    {
     "cell_type": "markdown",
     "metadata": {},
     "source": "Let's check if they are loaded correctly."
    },
    {
     "cell_type": "code",
     "collapsed": false,
     "input": "print subscription_id\nprint certificate_path",
     "language": "python",
     "metadata": {},
     "outputs": [
      {
       "output_type": "stream",
       "stream": "stdout",
       "text": "a6ca42fe-74c7-43e9-a441-0ab9906441da\n/home/azureuser/.azure/managementCertificate.pem\n"
      }
     ],
     "prompt_number": 188
    },
    {
     "cell_type": "markdown",
     "metadata": {},
     "source": "Now we have loaded the subscription id and certificate path. Next step is testing ServiceManagementService function to see if the credential is successfully loaded.\n\nLoad ServiceManagementService()\n---------------------------------"
    },
    {
     "cell_type": "code",
     "collapsed": false,
     "input": "from azure.servicemanagement import *\n\nsms = ServiceManagementService(subscription_id, certificate_path)",
     "language": "python",
     "metadata": {},
     "outputs": [],
     "prompt_number": 189
    },
    {
     "cell_type": "markdown",
     "metadata": {},
     "source": "If you don't see any errors, it probably works fine.  \nLet's try rest of the parts from the tutorial."
    },
    {
     "cell_type": "markdown",
     "metadata": {},
     "source": "Create Cloud Services (previously, hosted services)\n-----------------------------------------------------"
    },
    {
     "cell_type": "markdown",
     "metadata": {},
     "source": "Windows Azure requires to have Cloud Services. For more information, please read this: http://www.windowsazure.com/en-us/manage/services/cloud-services/what-is-a-cloud-service/ "
    },
    {
     "cell_type": "code",
     "collapsed": false,
     "input": "name = 'myvm'\nlocation = 'West US'\n\n# You can either set the location or an affinity_group\n# sms.create_hosted_service(service_name=name, label=name, location=location)",
     "language": "python",
     "metadata": {},
     "outputs": [],
     "prompt_number": 190
    },
    {
     "cell_type": "markdown",
     "metadata": {},
     "source": "The code above mostly generates errors due to the name conflict with existing one or location contraints. Let's change a bit for the name and the location."
    },
    {
     "cell_type": "code",
     "collapsed": false,
     "input": "# If you want to see the description of the function, simply type the function name with ? or ?? for detail\n# e.g. sms.create_hosted_service?",
     "language": "python",
     "metadata": {},
     "outputs": [],
     "prompt_number": 191
    },
    {
     "cell_type": "code",
     "collapsed": false,
     "input": "import hashlib\nimport time\n\nhash = hashlib.sha1()\nhash.update(str(time.time()))\nrand = hash.hexdigest()\nrand10 = hash.hexdigest()[:10]",
     "language": "python",
     "metadata": {},
     "outputs": [],
     "prompt_number": 192
    },
    {
     "cell_type": "code",
     "collapsed": false,
     "input": "# import random\n# name = 'myvm-' + ''.join(str(x) for x in random.sample(range(0,10), 5))\nname = 'myvm-' + rand10\n# In my case, I need to use 'Central US' location instead of 'West US' due to the location constraint of my subscription.\nlocation = \"Central US\"\n\n# You can either set the location or an affinity_group\nsms.create_hosted_service(service_name=name, label=name, location=location)",
     "language": "python",
     "metadata": {},
     "outputs": [],
     "prompt_number": 193
    },
    {
     "cell_type": "markdown",
     "metadata": {},
     "source": "If it works fine, the next step is specifying a blob file for a virtual machine image. This is the way how Windows Azure Virtual Machine works.  \nFor more information, please see here: http://www.windowsazure.com/en-us/develop/python/how-to-guides/blob-service/\n"
    },
    {
     "cell_type": "markdown",
     "metadata": {},
     "source": "Specify a blob file for the virtual machine\n---------------------------------------------\nOSVirtualHardDisk() will allow this step.  \nIt's lack of description in python though, so please see here for as how to use the function: http://msdn.microsoft.com/en-us/library/windowsazure/ee460804.aspx#OSVirtualHardDisk"
    },
    {
     "cell_type": "code",
     "collapsed": false,
     "input": "# OSVirtualHardDisk( <tab> shows what parameters are required.",
     "language": "python",
     "metadata": {},
     "outputs": [],
     "prompt_number": 194
    },
    {
     "cell_type": "markdown",
     "metadata": {},
     "source": "According to the tutorial, OSVirtualHardDisk needs an image_name and media_link at least.  \nWe have to specify which image and media link we will use.  \n\nLet's try to see what images we can choose from the list."
    },
    {
     "cell_type": "markdown",
     "metadata": {},
     "source": "### Find os image\n#### List images through list_os_images()"
    },
    {
     "cell_type": "code",
     "collapsed": false,
     "input": "result = sms.list_os_images()\nfor image in result:\n    print('Name: ' + image.name)\n    print('Label: ' + image.label)\n    print('OS: ' + image.os)\n    print('Category: ' + image.category)\n    print('Description: ' + image.description)\n    print('Location: ' + image.location)\n    print('Affinity group: ' + image.affinity_group)\n    print('Media link: ' + image.media_link)\n    print('')",
     "language": "python",
     "metadata": {},
     "outputs": [
      {
       "output_type": "stream",
       "stream": "stdout",
       "text": "Name: 03f55de797f546a1b29d1b8d66be687a__Visual-Studio-2013-Preview-Ultimate-12.0.20617.1\nLabel: Visual Studio Ultimate 2013 Preview\nOS: Windows\nCategory: Microsoft Visual Studio Group\nDescription: The Visual Studio Ultimate 2013 Preview image enables you to quickly create a development environment for either Web and SQL development or SharePoint 2013 development on Windows Azure. The image includes a complete installation of Visual Studio 2013 Ultimate preview (by using it you agree to Microsoft Supplemental Software License Terms for Microsoft Visual Studio 2013 Product Family Preview which can be found on the image desktop), SharePoint 2013 Trial and SQL Server 2012 Express. The image also contains scripts to configure the virtual machine for either Web and SQL development or for SharePoint development which can be found on c:\\ConfigureDeveloperDesktop.\nLocation: \nAffinity group: \nMedia link: \n\nName: 0b11de9248dd4d87b18621318e037d37__RightImage-CentOS-6.2-x64-v5.8.8.1\nLabel: RightImage CentOS 6.2 x64 v5.8.8.1\nOS: Linux\nCategory: RightScale with Linux\nDescription: CentOS 6.3 with RightLink 5.8.\nLocation: \nAffinity group: \nMedia link: \n\nName: 0b11de9248dd4d87b18621318e037d37__RightImage-CentOS-6.3-x64-v5.8.8\nLabel: RightImage CentOS 6.3 x64 v5.8.8\nOS: Linux\nCategory: RightScale with Linux\nDescription: CentOS 6.2 with RightLink 5.8.\nLocation: \nAffinity group: \nMedia link: \n\nName: 0b11de9248dd4d87b18621318e037d37__RightImage-CentOS-6.3-x64-v5.8.8.5\nLabel: RightImage CentOS 6.3 x64 v5.8.8.5\nOS: Linux\nCategory: RightScale with Linux\nDescription: CentOS 6.3 with RightLink 5.8.\nLocation: \nAffinity group: \nMedia link: \n\nName: 0b11de9248dd4d87b18621318e037d37__RightImage-CentOS-6.3-x64-v5.8.8.6\nLabel: RightImage CentOS 6.3 x64 v5.8.8.6\nOS: Linux\nCategory: RightScale with Linux\nDescription: CentOS 6.3 with RightLink 5.8.\nLocation: \nAffinity group: \nMedia link: \n\nName: 0b11de9248dd4d87b18621318e037d37__RightImage-CentOS-6.3-x64-v5.8.8.7\nLabel: RightImage CentOS 6.3 x64 v5.8.8.7\nOS: Linux\nCategory: RightScale with Linux\nDescription: CentOS 6.3 with RightLink 5.8.\nLocation: \nAffinity group: \nMedia link: \n\nName: 0b11de9248dd4d87b18621318e037d37__RightImage-CentOS-6.3-x64-v5.8.8.8\nLabel: RightImage CentOS 6.3 x64 v5.8.8.8\nOS: Linux\nCategory: RightScale with Linux\nDescription: CentOS 6.3 with RightLink 5.8.\nLocation: \nAffinity group: \nMedia link: \n\nName: 0b11de9248dd4d87b18621318e037d37__RightImage-CentOS-6.3-x64-v5.8.8.9\nLabel: RightImage CentOS 6.3 x64 v5.8.8.9\nOS: Linux\nCategory: RightScale with Linux\nDescription: CentOS 6.3 with RightLink 5.8.\nLocation: \nAffinity group: \nMedia link: \n\nName: 0b11de9248dd4d87b18621318e037d37__RightImage-CentOS-6.4-x64-v13.4\nLabel: RightImage-CentOS-6.4-x64-v13.4\nOS: Linux\nCategory: RightScale with Linux\nDescription: \nLocation: \nAffinity group: \nMedia link: \n\nName: 0b11de9248dd4d87b18621318e037d37__RightImage-CentOS-6.4-x64-v13.5.0.1\nLabel: RightImage CentOS 6.4 x64 v13.5.0.1\nOS: Linux\nCategory: RightScale with Linux\nDescription: CentOS 6.4 with RightLink 5.8.\nLocation: \nAffinity group: \nMedia link: \n\nName: 0b11de9248dd4d87b18621318e037d37__RightImage-CentOS-6.4-x64-v13.5.0.2\nLabel: RightImage CentOS 6.4 x64 v13.5.0.2\nOS: Linux\nCategory: RightScale with Linux\nDescription: CentOS 6.4 with RightLink 5.8.\nLocation: \nAffinity group: \nMedia link: \n\nName: 0b11de9248dd4d87b18621318e037d37__RightImage-Ubuntu-12.04-x64-v13.4\nLabel: RightImage-Ubuntu-12.04-x64-v13.4\nOS: Linux\nCategory: RightScale with Linux\nDescription: \nLocation: \nAffinity group: \nMedia link: \n\nName: 0b11de9248dd4d87b18621318e037d37__RightImage-Ubuntu-12.04-x64-v13.5.0.1\nLabel: RightImage Ubuntu 12.04 x64 v13.5.0.1\nOS: Linux\nCategory: RightScale with Linux\nDescription: Ubuntu 12.04 with RightLink 5.8.\nLocation: \nAffinity group: \nMedia link: \n\nName: 0b11de9248dd4d87b18621318e037d37__RightImage-Ubuntu-12.04-x64-v5.8.8\nLabel: RightImage Ubuntu 12.04 x64 v5.8.8\nOS: Linux\nCategory: RightScale with Linux\nDescription: Ubuntu 12.04 with RightLink 5.8.\nLocation: \nAffinity group: \nMedia link: \n\nName: 0b11de9248dd4d87b18621318e037d37__RightImage-Ubuntu-12.04-x64-v5.8.8.5\nLabel: RightImage Ubuntu 12.04 x64 v5.8.8.5\nOS: Linux\nCategory: RightScale with Linux\nDescription: Ubuntu 12.04 with RightLink 5.8.\nLocation: \nAffinity group: \nMedia link: \n\nName: 0b11de9248dd4d87b18621318e037d37__RightImage-Ubuntu-12.04-x64-v5.8.8.7\nLabel: RightImage Ubuntu 12.04 x64 v5.8.8.7\nOS: Linux\nCategory: RightScale with Linux\nDescription: Ubuntu 12.04 with RightLink 5.8.\nLocation: \nAffinity group: \nMedia link: \n\nName: 0b11de9248dd4d87b18621318e037d37__RightImage-Ubuntu-12.04-x64-v5.8.8.8\nLabel: RightImage Ubuntu 12.04 x64 v5.8.8.8\nOS: Linux\nCategory: RightScale with Linux\nDescription: Ubuntu 12.04 with RightLink 5.8.\nLocation: \nAffinity group: \nMedia link: \n\nName: 2cdc6229df6344129ee553dd3499f0d3__BizTalk-Server-2013-Enterprise\nLabel: BizTalk Server 2013 Enterprise\nOS: Windows\nCategory: Microsoft BizTalk Server Group\nDescription: Microsoft BizTalk Server 2013 Enterprise (64-bit) on Windows Server 2012. This image contains the Enterprise edition of BizTalk Server 2013. Some BizTalk Server components like accelerators require additional setup before use. Medium is the recommended size for this image.\nLocation: \nAffinity group: \nMedia link: \n\nName: 2cdc6229df6344129ee553dd3499f0d3__BizTalk-Server-2013-Evaluation\nLabel: BizTalk Server 2013 Evaluation\nOS: Windows\nCategory: Microsoft BizTalk Server Group\nDescription: Microsoft BizTalk Server 2013 Evaluation (64-bit) on Windows Server 2012. This image contains the Evaluation edition of BizTalk Server 2013. Some BizTalk Server components like accelerators require additional setup before use. Medium is the recommended size for this image.\nLocation: \nAffinity group: \nMedia link: \n\nName: 2cdc6229df6344129ee553dd3499f0d3__BizTalk-Server-2013-Standard\nLabel: BizTalk Server 2013 Standard\nOS: Windows\nCategory: Microsoft BizTalk Server Group\nDescription: Microsoft BizTalk Server 2013 Standard (64-bit) on Windows Server 2012. This image contains the Standard edition of BizTalk Server 2013. Some BizTalk Server components like accelerators require additional setup before use. Medium is the recommended size for this image.\nLocation: \nAffinity group: \nMedia link: \n\nName: 5112500ae3b842c8b9c604889f8753c3__OpenLogic-CentOS-63APR20130415\nLabel: OpenLogic CentOS 6.3\nOS: Linux\nCategory: OpenLogic\nDescription: This distribution of Linux is based on CentOS version 6.3 and is provided by OpenLogic. It contains an installation of the Basic Server packages.\nLocation: \nAffinity group: \nMedia link: \n\nName: a699494373c04fc0bc8f2bb1389d6106__Win2K8R2SP1-Datacenter-201305.01-en.us-127GB.vhd\nLabel: Windows Server 2008 R2 SP1, May 2013\nOS: Windows\nCategory: Microsoft Windows Server Group\nDescription: Windows Server 2008 R2 is a multi-purpose server designed to increase the reliability and flexibility of your server or private cloud infrastructure, helping you to save time and reduce costs.  It provides you with powerful tools to react to business needs with greater control and confidence.\nLocation: \nAffinity group: \nMedia link: \n\nName: a699494373c04fc0bc8f2bb1389d6106__Win2K8R2SP1-Datacenter-201306.01-en.us-127GB.vhd\nLabel: Windows Server 2008 R2 SP1, June 2013\nOS: Windows\nCategory: Microsoft Windows Server Group\nDescription: Windows Server 2008 R2 is a multi-purpose server designed to increase the reliability and flexibility of your server or private cloud infrastructure, helping you to save time and reduce costs.  It provides you with powerful tools to react to business needs with greater control and confidence.\nLocation: \nAffinity group: \nMedia link: \n\nName: a699494373c04fc0bc8f2bb1389d6106__Windows-Server-2012-Datacenter-201305.01-en.us-127GB.vhd\nLabel: Windows Server 2012 Datacenter, May 2013\nOS: Windows\nCategory: Microsoft Windows Server Group\nDescription: Windows Server 2012 incorporates Microsoft's experience building and operating public clouds, resulting in a dynamic, highly available server platform. It offers a scalable, dynamic and multi-tenant-aware infrastructure that helps securely connect across premises.\nLocation: \nAffinity group: \nMedia link: \n\nName: a699494373c04fc0bc8f2bb1389d6106__Windows-Server-2012-Datacenter-201306.01-en.us-127GB.vhd\nLabel: Windows Server 2012 Datacenter, June 2013\nOS: Windows\nCategory: Microsoft Windows Server Group\nDescription: Windows Server 2012 incorporates Microsoft's experience building and operating public clouds, resulting in a dynamic, highly available server platform. It offers a scalable, dynamic and multi-tenant-aware infrastructure that helps securely connect across premises.\nLocation: \nAffinity group: \nMedia link: \n\nName: a699494373c04fc0bc8f2bb1389d6106__Windows-Server-2012-R2-Preview-201306.01-en.us-127GB.vhd\nLabel: Windows Server 2012 R2 Preview\nOS: Windows\nCategory: Microsoft Windows Server Group\nDescription: At the heart of the Microsoft Cloud OS vision, Windows Server 2012 R2 brings Microsoft's experience delivering global-scale cloud services into your infrastructure. It offers enterprise-class performance, flexibility for your applications and excellent economics for your datacenter and hybrid cloud environment. This is a preview release for Windows Server 2012 R2. Virtual Machines created using the preview release will expire on Jan 15th, 2014. This image shouldn't be used for production deployments and strictly used for evaluation/testing purposes. Support for the Preview release of Windows Server 2012 R2 is available through http://social.msdn.microsoft.com/Forums/en-US/WAVirtualMachinesforWindows\nLocation: \nAffinity group: \nMedia link: \n\nName: b39f27a8b8c64d52b05eac6a62ebad85__Ubuntu-12_04_2-LTS-amd64-server-20130225-en-us-30GB\nLabel: Ubuntu Server 12.04.2 LTS\nOS: Linux\nCategory: Canonical\nDescription: Ubuntu Server 12.04.2 LTS (amd64 20130225) for Windows Azure. Ubuntu Server is the world's most popular Linux for cloud environments. Updates and patches for Ubuntu 12.04.2 LTS will be available until 2017-04-26.  Ubuntu Server is the perfect platform for all workloads from web applications to NoSQL databases and Hadoop. More information can be found at:\nhttp://www.ubuntu.com/business/server\nLocation: \nAffinity group: \nMedia link: \n\nName: b39f27a8b8c64d52b05eac6a62ebad85__Ubuntu-12_04_2-LTS-amd64-server-20130325-en-us-30GB\nLabel: Ubuntu Server 12.04.2 LTS\nOS: Linux\nCategory: Canonical\nDescription: Ubuntu Server 12.04.2 LTS (amd64 20130325) for Windows Azure. Ubuntu Server is the world's most popular Linux for cloud environments. Updates and patches for Ubuntu 12.04.2 LTS will be available until 2017-04-26.  Ubuntu Server is the perfect platform for all workloads from web applications to NoSQL databases and Hadoop. More information can be found at:\nhttp://www.ubuntu.com/business/server\nLocation: \nAffinity group: \nMedia link: \n\nName: b39f27a8b8c64d52b05eac6a62ebad85__Ubuntu-12_04_2-LTS-amd64-server-20130415-en-us-30GB\nLabel: Ubuntu Server 12.04.2 LTS\nOS: Linux\nCategory: Canonical\nDescription: Ubuntu Server 12.04.2 LTS (amd64 20130415) for Windows Azure. Ubuntu Server is the world's most popular Linux for cloud environments. Updates and patches for Ubuntu 12.04.2 LTS will be available until 2017-04-26.  Ubuntu Server is the perfect platform for all workloads from web applications to NoSQL databases and Hadoop. More information can be found at:\nhttp://www.ubuntu.com/business/server\nLocation: \nAffinity group: \nMedia link: \n\nName: b39f27a8b8c64d52b05eac6a62ebad85__Ubuntu-12_04_2-LTS-amd64-server-20130516-en-us-30GB\nLabel: Ubuntu Server 12.04.2 LTS\nOS: Linux\nCategory: Canonical\nDescription: Ubuntu Server 12.04.2 LTS (amd64 20130516) for Windows Azure. Ubuntu Server is the world's most popular Linux for cloud environments. Updates and patches for Ubuntu 12.04.2 LTS will be available until 2017-04-26.  Ubuntu Server is the perfect platform for all workloads from web applications to NoSQL databases and Hadoop. More information can be found at:\nhttp://www.ubuntu.com/business/server\nLocation: \nAffinity group: \nMedia link: \n\nName: b39f27a8b8c64d52b05eac6a62ebad85__Ubuntu-12_04_2-LTS-amd64-server-20130527-en-us-30GB\nLabel: Ubuntu Server 12.04.2 LTS\nOS: Linux\nCategory: Canonical\nDescription: Ubuntu Server 12.04.2 LTS (amd64 20130527) for Windows Azure. Ubuntu Server is the world's most popular Linux for cloud environments. Updates and patches for Ubuntu 12.04.2 LTS will be available until 2017-04-26.  Ubuntu Server is the perfect platform for all workloads from web applications to NoSQL databases and Hadoop. More information can be found at:\nhttp://www.ubuntu.com/business/server\nLocation: \nAffinity group: \nMedia link: \n\nName: b39f27a8b8c64d52b05eac6a62ebad85__Ubuntu-12_04_2-LTS-amd64-server-20130603-en-us-30GB\nLabel: Ubuntu Server 12.04.2 LTS\nOS: Linux\nCategory: Canonical\nDescription: Ubuntu Server 12.04.2 LTS (amd64 20130603) for Windows Azure. Ubuntu Server is the world's most popular Linux for cloud environments. Updates and patches for Ubuntu 12.04.2 LTS will be available until 2017-04-26.  Ubuntu Server is the perfect platform for all workloads from web applications to NoSQL databases and Hadoop. More information can be found at:\nhttp://www.ubuntu.com/business/server\nLocation: \nAffinity group: \nMedia link: \n\nName: b39f27a8b8c64d52b05eac6a62ebad85__Ubuntu-12_04_2-LTS-amd64-server-20130624-en-us-30GB\nLabel: Ubuntu Server 12.04.2 LTS\nOS: Linux\nCategory: Canonical\nDescription: Ubuntu Server 12.04.2 LTS (amd64 20130624) for Windows Azure. Ubuntu Server is the world's most popular Linux for cloud environments. Updates and patches for Ubuntu 12.04.2 LTS will be available until 2017-04-26.  Ubuntu Server is the perfect platform for all workloads from web applications to NoSQL databases and Hadoop. More information can be found at:\nhttp://www.ubuntu.com/business/server\nLocation: \nAffinity group: \nMedia link: \n\nName: b39f27a8b8c64d52b05eac6a62ebad85__Ubuntu-12_10-amd64-server-20130414-en-us-30GB\nLabel: Ubuntu Server 12.10\nOS: Linux\nCategory: Canonical\nDescription: Ubuntu Server 12.10 (amd64 20130414) for Windows Azure. Ubuntu Server is the world's most popular Linux for cloud environments. Updates and patches for Ubuntu 12.10 will be available until 2014-04-18.  Ubuntu Server is the perfect platform for all workloads from web applications to NoSQL databases and Hadoop. More information can be found at:\nhttp://www.ubuntu.com/business/server\nLocation: \nAffinity group: \nMedia link: \n\nName: b39f27a8b8c64d52b05eac6a62ebad85__Ubuntu-12_10-amd64-server-20130526-en-us-30GB\nLabel: Ubuntu Server 12.10\nOS: Linux\nCategory: Canonical\nDescription: Ubuntu Server 12.10 (amd64 20130526) for Windows Azure. Ubuntu Server is the world's most popular Linux for cloud environments. Updates and patches for Ubuntu 12.10 will be available until 2014-04-18.  Ubuntu Server is the perfect platform for all workloads from web applications to NoSQL databases and Hadoop. More information can be found at:\nhttp://www.ubuntu.com/business/server\nLocation: \nAffinity group: \nMedia link: \n\nName: b39f27a8b8c64d52b05eac6a62ebad85__Ubuntu-12_10-amd64-server-20130602-en-us-30GB\nLabel: Ubuntu Server 12.10\nOS: Linux\nCategory: Canonical\nDescription: Ubuntu Server 12.10 (amd64 20130602) for Windows Azure. Ubuntu Server is the world's most popular Linux for cloud environments. Updates and patches for Ubuntu 12.10 will be available until 2014-04-18.  Ubuntu Server is the perfect platform for all workloads from web applications to NoSQL databases and Hadoop. More information can be found at:\nhttp://www.ubuntu.com/business/server\nLocation: \nAffinity group: \nMedia link: \n\nName: b39f27a8b8c64d52b05eac6a62ebad85__Ubuntu-12_10-amd64-server-20130616-en-us-30GB\nLabel: Ubuntu Server 12.10\nOS: Linux\nCategory: Canonical\nDescription: Ubuntu Server 12.10 (amd64 20130616) for Windows Azure. Ubuntu Server is the world's most popular Linux for cloud environments. Updates and patches for Ubuntu 12.10 will be available until 2014-04-18.  Ubuntu Server is the perfect platform for all workloads from web applications to NoSQL databases and Hadoop. More information can be found at:\nhttp://www.ubuntu.com/business/server\nLocation: \nAffinity group: \nMedia link: \n\nName: b39f27a8b8c64d52b05eac6a62ebad85__Ubuntu-12_10-amd64-server-20130707-en-us-30GB\nLabel: Ubuntu Server 12.10\nOS: Linux\nCategory: Canonical\nDescription: Ubuntu Server 12.10 (amd64 20130707) for Windows Azure. Ubuntu Server is the world's most popular Linux for cloud environments. Updates and patches for Ubuntu 12.10 will be available until 2014-04-18.  Ubuntu Server is the perfect platform for all workloads from web applications to NoSQL databases and Hadoop. More information can be found at:\nhttp://www.ubuntu.com/business/server\nLocation: \nAffinity group: \nMedia link: \n\nName: b39f27a8b8c64d52b05eac6a62ebad85__Ubuntu-13_04-amd64-server-20130423-en-us-30GB\nLabel: Ubuntu Server 12.10\nOS: Linux\nCategory: Canonical\nDescription: Ubuntu Server 13.04 (amd64 20130423) for Windows Azure. Ubuntu Server is the world's most popular Linux for cloud environments. Updates and patches for Ubuntu 13.04 will be available until 2014-01-25.  Ubuntu Server is the perfect platform for all workloads from web applications to NoSQL databases and Hadoop. More information can be found at:\nhttp://www.ubuntu.com/business/server\nLocation: \nAffinity group: \nMedia link: \n\nName: b39f27a8b8c64d52b05eac6a62ebad85__Ubuntu-13_04-amd64-server-20130501-en-us-30GB\nLabel: Ubuntu Server 13.04\nOS: Linux\nCategory: Canonical\nDescription: Ubuntu Server 13.04 (amd64 20130501) for Windows Azure. Ubuntu Server is the world's most popular Linux for cloud environments. Updates and patches for Ubuntu 13.04 will be available until 2014-01-25.  Ubuntu Server is the perfect platform for all workloads from web applications to NoSQL databases and Hadoop. More information can be found at:\nhttp://www.ubuntu.com/business/server\nLocation: \nAffinity group: \nMedia link: \n\nName: b39f27a8b8c64d52b05eac6a62ebad85__Ubuntu-13_04-amd64-server-20130525-en-us-30GB\nLabel: Ubuntu Server 13.04\nOS: Linux\nCategory: Canonical\nDescription: Ubuntu Server 13.04 (amd64 20130525) for Windows Azure. Ubuntu Server is the world's most popular Linux for cloud environments. Updates and patches for Ubuntu 13.04 will be available until 2014-01-25.  Ubuntu Server is the perfect platform for all workloads from web applications to NoSQL databases and Hadoop. More information can be found at:\nhttp://www.ubuntu.com/business/server\nLocation: \nAffinity group: \nMedia link: \n\nName: b39f27a8b8c64d52b05eac6a62ebad85__Ubuntu-13_04-amd64-server-20130601-en-us-30GB\nLabel: Ubuntu Server 13.04\nOS: Linux\nCategory: Canonical\nDescription: Ubuntu Server 13.04 (amd64 20130601) for Windows Azure. Ubuntu Server is the world's most popular Linux for cloud environments. Updates and patches for Ubuntu 13.04 will be available until 2014-01-25.  Ubuntu Server is the perfect platform for all workloads from web applications to NoSQL databases and Hadoop. More information can be found at:\nhttp://www.ubuntu.com/business/server\nLocation: \nAffinity group: \nMedia link: \n\nName: b39f27a8b8c64d52b05eac6a62ebad85__Ubuntu-13_04-amd64-server-20130615-en-us-30GB\nLabel: Ubuntu Server 13.04\nOS: Linux\nCategory: Canonical\nDescription: Ubuntu Server 13.04 (amd64 20130615) for Windows Azure. Ubuntu Server is the world's most popular Linux for cloud environments. Updates and patches for Ubuntu 13.04 will be available until 2014-01-25.  Ubuntu Server is the perfect platform for all workloads from web applications to NoSQL databases and Hadoop. More information can be found at:\nhttp://www.ubuntu.com/business/server\nLocation: \nAffinity group: \nMedia link: \n\nName: b39f27a8b8c64d52b05eac6a62ebad85__Ubuntu-13_04-amd64-server-20130706-en-us-30GB\nLabel: Ubuntu Server 13.04\nOS: Linux\nCategory: Canonical\nDescription: Ubuntu Server 13.04 (amd64 20130706) for Windows Azure. Ubuntu Server is the world's most popular Linux for cloud environments. Updates and patches for Ubuntu 13.04 will be available until 2014-01-25.  Ubuntu Server is the perfect platform for all workloads from web applications to NoSQL databases and Hadoop. More information can be found at:\nhttp://www.ubuntu.com/business/server\nLocation: \nAffinity group: \nMedia link: \n\nName: b39f27a8b8c64d52b05eac6a62ebad85__Ubuntu_DAILY_BUILD-precise-12_04_2-LTS-amd64-server-20130722-en-us-30GB\nLabel: Ubuntu Server 12.04.2 LTS DAILY\nOS: Linux\nCategory: Canonical\nDescription: DAILY BUILD 20130722 of Ubuntu Server 12.04.2 LTS DAILY (amd64) for Windows Azure. Daily builds are up-to-date builds of the regular release images for Ubuntu Server. While every effort is made to make sure that these are production quality, these images come with no warranty. In the event of a support issue, you may be asked to update to an official released build\nLocation: \nAffinity group: \nMedia link: \n\nName: b39f27a8b8c64d52b05eac6a62ebad85__Ubuntu_DAILY_BUILD-precise-12_04_2-LTS-amd64-server-20130725-en-us-30GB\nLabel: Ubuntu Server 12.04.2 LTS DAILY\nOS: Linux\nCategory: Canonical\nDescription: DAILY BUILD 20130725 of Ubuntu Server 12.04.2 LTS DAILY (amd64) for Windows Azure. Daily builds are up-to-date builds of the regular release images for Ubuntu Server. While every effort is made to make sure that these are production quality, these images come with no warranty. In the event of a support issue, you may be asked to update to an official released build\nLocation: \nAffinity group: \nMedia link: \n\nName: b39f27a8b8c64d52b05eac6a62ebad85__Ubuntu_DAILY_BUILD-quantal-12_10-amd64-server-20130710-en-us-30GB\nLabel: Ubuntu Server 12.10 DAILY\nOS: Linux\nCategory: Canonical\nDescription: DAILY BUILD 20130710 of Ubuntu Server 12.10 DAILY (amd64) for Windows Azure. Daily builds are up-to-date builds of the regular release images for Ubuntu Server. While every effort is made to make sure that these are production quality, these images come with no warranty. In the event of a support issue, you may be asked to update to an official released build\nLocation: \nAffinity group: \nMedia link: \n\nName: b39f27a8b8c64d52b05eac6a62ebad85__Ubuntu_DAILY_BUILD-quantal-12_10-amd64-server-20130714-en-us-30GB\nLabel: Ubuntu Server 12.10 DAILY\nOS: Linux\nCategory: Canonical\nDescription: DAILY BUILD 20130714 of Ubuntu Server 12.10 DAILY (amd64) for Windows Azure. Daily builds are up-to-date builds of the regular release images for Ubuntu Server. While every effort is made to make sure that these are production quality, these images come with no warranty. In the event of a support issue, you may be asked to update to an official released build\nLocation: \nAffinity group: \nMedia link: \n\nName: b39f27a8b8c64d52b05eac6a62ebad85__Ubuntu_DAILY_BUILD-quantal-12_10-amd64-server-20130717-en-us-30GB\nLabel: Ubuntu Server 12.10 DAILY\nOS: Linux\nCategory: Canonical\nDescription: DAILY BUILD 20130717 of Ubuntu Server 12.10 DAILY (amd64) for Windows Azure. Daily builds are up-to-date builds of the regular release images for Ubuntu Server. While every effort is made to make sure that these are production quality, these images come with no warranty. In the event of a support issue, you may be asked to update to an official released build\nLocation: \nAffinity group: \nMedia link: \n\nName: b39f27a8b8c64d52b05eac6a62ebad85__Ubuntu_DAILY_BUILD-quantal-12_10-amd64-server-20130721-en-us-30GB\nLabel: Ubuntu Server 12.10 DAILY\nOS: Linux\nCategory: Canonical\nDescription: DAILY BUILD 20130721 of Ubuntu Server 12.10 DAILY (amd64) for Windows Azure. Daily builds are up-to-date builds of the regular release images for Ubuntu Server. While every effort is made to make sure that these are production quality, these images come with no warranty. In the event of a support issue, you may be asked to update to an official released build\nLocation: \nAffinity group: \nMedia link: \n\nName: b39f27a8b8c64d52b05eac6a62ebad85__Ubuntu_DAILY_BUILD-quantal-12_10-amd64-server-20130724-en-us-30GB\nLabel: Ubuntu Server 12.10 DAILY\nOS: Linux\nCategory: Canonical\nDescription: DAILY BUILD 20130724 of Ubuntu Server 12.10 DAILY (amd64) for Windows Azure. Daily builds are up-to-date builds of the regular release images for Ubuntu Server. While every effort is made to make sure that these are production quality, these images come with no warranty. In the event of a support issue, you may be asked to update to an official released build\nLocation: \nAffinity group: \nMedia link: \n\nName: b39f27a8b8c64d52b05eac6a62ebad85__Ubuntu_DAILY_BUILD-raring-13_04-amd64-server-20130709-en-us-30GB\nLabel: Ubuntu Server 13.04 DAILY\nOS: Linux\nCategory: Canonical\nDescription: DAILY BUILD 20130709 of Ubuntu Server 13.04 DAILY (amd64) for Windows Azure. Daily builds are up-to-date builds of the regular release images for Ubuntu Server. While every effort is made to make sure that these are production quality, these images come with no warranty. In the event of a support issue, you may be asked to update to an official released build\nLocation: \nAffinity group: \nMedia link: \n\nName: b39f27a8b8c64d52b05eac6a62ebad85__Ubuntu_DAILY_BUILD-raring-13_04-amd64-server-20130713-en-us-30GB\nLabel: Ubuntu Server 13.04 DAILY\nOS: Linux\nCategory: Canonical\nDescription: DAILY BUILD 20130713 of Ubuntu Server 13.04 DAILY (amd64) for Windows Azure. Daily builds are up-to-date builds of the regular release images for Ubuntu Server. While every effort is made to make sure that these are production quality, these images come with no warranty. In the event of a support issue, you may be asked to update to an official released build\nLocation: \nAffinity group: \nMedia link: \n\nName: b39f27a8b8c64d52b05eac6a62ebad85__Ubuntu_DAILY_BUILD-raring-13_04-amd64-server-20130716-en-us-30GB\nLabel: Ubuntu Server 13.04 DAILY\nOS: Linux\nCategory: Canonical\nDescription: DAILY BUILD 20130716 of Ubuntu Server 13.04 DAILY (amd64) for Windows Azure. Daily builds are up-to-date builds of the regular release images for Ubuntu Server. While every effort is made to make sure that these are production quality, these images come with no warranty. In the event of a support issue, you may be asked to update to an official released build\nLocation: \nAffinity group: \nMedia link: \n\nName: b39f27a8b8c64d52b05eac6a62ebad85__Ubuntu_DAILY_BUILD-raring-13_04-amd64-server-20130720-en-us-30GB\nLabel: Ubuntu Server 13.04 DAILY\nOS: Linux\nCategory: Canonical\nDescription: DAILY BUILD 20130720 of Ubuntu Server 13.04 DAILY (amd64) for Windows Azure. Daily builds are up-to-date builds of the regular release images for Ubuntu Server. While every effort is made to make sure that these are production quality, these images come with no warranty. In the event of a support issue, you may be asked to update to an official released build\nLocation: \nAffinity group: \nMedia link: \n\nName: b39f27a8b8c64d52b05eac6a62ebad85__Ubuntu_DAILY_BUILD-raring-13_04-amd64-server-20130723-en-us-30GB\nLabel: Ubuntu Server 13.04 DAILY\nOS: Linux\nCategory: Canonical\nDescription: DAILY BUILD 20130723 of Ubuntu Server 13.04 DAILY (amd64) for Windows Azure. Daily builds are up-to-date builds of the regular release images for Ubuntu Server. While every effort is made to make sure that these are production quality, these images come with no warranty. In the event of a support issue, you may be asked to update to an official released build\nLocation: \nAffinity group: \nMedia link: \n\nName: b39f27a8b8c64d52b05eac6a62ebad85__Ubuntu_DAILY_BUILD-saucy-13_10-amd64-server-20130721-en-us-30GB\nLabel: Ubuntu Server 13.10 DAILY\nOS: Linux\nCategory: Canonical\nDescription: DAILY BUILD 20130721 of Ubuntu Server 13.10 DAILY (amd64) for Windows Azure. Daily builds are up-to-date builds of the regular release images for Ubuntu Server. While every effort is made to make sure that these are production quality, these images come with no warranty. In the event of a support issue, you may be asked to update to an official released build\nLocation: \nAffinity group: \nMedia link: \n\nName: b39f27a8b8c64d52b05eac6a62ebad85__Ubuntu_DAILY_BUILD-saucy-13_10-amd64-server-20130722-en-us-30GB\nLabel: Ubuntu Server 13.10 DAILY\nOS: Linux\nCategory: Canonical\nDescription: DAILY BUILD 20130722 of Ubuntu Server 13.10 DAILY (amd64) for Windows Azure. Daily builds are up-to-date builds of the regular release images for Ubuntu Server. While every effort is made to make sure that these are production quality, these images come with no warranty. In the event of a support issue, you may be asked to update to an official released build\nLocation: \nAffinity group: \nMedia link: \n\nName: b39f27a8b8c64d52b05eac6a62ebad85__Ubuntu_DAILY_BUILD-saucy-13_10-amd64-server-20130723-en-us-30GB\nLabel: Ubuntu Server 13.10 DAILY\nOS: Linux\nCategory: Canonical\nDescription: DAILY BUILD 20130723 of Ubuntu Server 13.10 DAILY (amd64) for Windows Azure. Daily builds are up-to-date builds of the regular release images for Ubuntu Server. While every effort is made to make sure that these are production quality, these images come with no warranty. In the event of a support issue, you may be asked to update to an official released build\nLocation: \nAffinity group: \nMedia link: \n\nName: b39f27a8b8c64d52b05eac6a62ebad85__Ubuntu_DAILY_BUILD-saucy-13_10-amd64-server-20130724-en-us-30GB\nLabel: Ubuntu Server 13.10 DAILY\nOS: Linux\nCategory: Canonical\nDescription: DAILY BUILD 20130724 of Ubuntu Server 13.10 DAILY (amd64) for Windows Azure. Daily builds are up-to-date builds of the regular release images for Ubuntu Server. While every effort is made to make sure that these are production quality, these images come with no warranty. In the event of a support issue, you may be asked to update to an official released build\nLocation: \nAffinity group: \nMedia link: \n\nName: b39f27a8b8c64d52b05eac6a62ebad85__Ubuntu_DAILY_BUILD-saucy-13_10-amd64-server-20130725-en-us-30GB\nLabel: Ubuntu Server 13.10 DAILY\nOS: Linux\nCategory: Canonical\nDescription: DAILY BUILD 20130725 of Ubuntu Server 13.10 DAILY (amd64) for Windows Azure. Daily builds are up-to-date builds of the regular release images for Ubuntu Server. While every effort is made to make sure that these are production quality, these images come with no warranty. In the event of a support issue, you may be asked to update to an official released build\nLocation: \nAffinity group: \nMedia link: \n\nName: b4590d9e3ed742e4a1d46e5424aa335e__SUSE-Linux-Enterprise-Server-11-SP2-v134\nLabel: SUSE Linux Enterprise Server 11 SP2\nOS: Linux\nCategory: SUSE\nDescription: SUSE Linux Enterprise Server is a highly reliable, scalable, and secure server operating system, built to power mission-critical workloads in both physical and virtual environments. It is an affordable, interoperable, and manageable open source foundation. With it, enterprises can cost-effectively deliver core business services, enable secure networks, and simplify the management of their heterogeneous IT infrastructure, maximizing efficiency and value. Customization of these images can be done at http://susestudio.com\nLocation: \nAffinity group: \nMedia link: \n\nName: b4590d9e3ed742e4a1d46e5424aa335e__SUSE-Linux-Enterprise-Server-11-SP3-v103\nLabel: SUSE Linux Enterprise Server 11 SP3\nOS: Linux\nCategory: SUSE\nDescription: SUSE Linux Enterprise Server is a highly reliable, scalable, and secure server operating system, built to power mission-critical workloads in both physical and virtual environments. It is an affordable, interoperable, and manageable open source foundation. With it, enterprises can cost-effectively deliver core business services, enable secure networks, and simplify the management of their heterogeneous IT infrastructure, maximizing efficiency and value. Customization of these images can be done at http://susestudio.com\nLocation: \nAffinity group: \nMedia link: \n\nName: b4590d9e3ed742e4a1d46e5424aa335e__openSUSE-12.3-v120\nLabel: openSUSE 12.3\nOS: Linux\nCategory: SUSE\nDescription: openSUSE 12.3 brings updated desktop environments and software, lot of polishing, a brand new KDE theme, complete systemd integration and many other features. Customization of these images can be done at http://susestudio.com\nLocation: \nAffinity group: \nMedia link: \n\nName: bd507d3a70934695bc2128e3e5a255ba__RightImage-Windows-2008R2-SP1-x64-iis75-v5.8.8\nLabel: RightImage Windows 2008R2 SP1 x64 iis75 v5.8.8\nOS: Windows\nCategory: RightScale with Windows Server\nDescription: Windows 2012 with IIS 7.5 and RightLink 5.8.\nLocation: \nAffinity group: \nMedia link: \n\nName: bd507d3a70934695bc2128e3e5a255ba__RightImage-Windows-2008R2-SP1-x64-iis75-v5.8.8.11\nLabel: RightImage Windows 2008R2 SP1 x64 iis75 v5.8.8.11\nOS: Windows\nCategory: RightScale with Windows Server\nDescription: Windows 2012 with IIS 7.5 and RightLink 5.8.\nLocation: \nAffinity group: \nMedia link: \n\nName: bd507d3a70934695bc2128e3e5a255ba__RightImage-Windows-2008R2-SP1-x64-sqlsvr2012-v5.8.8\nLabel: RightImage Windows 2008R2 SP1 x64 sqlsvr2012 v5.8.8\nOS: Windows\nCategory: RightScale with Windows Server\nDescription: Windows 2012 with MS SQL Server 2012 Standard and RightLink 5.8.\nLocation: \nAffinity group: \nMedia link: \n\nName: bd507d3a70934695bc2128e3e5a255ba__RightImage-Windows-2008R2-SP1-x64-sqlsvr2012-v5.8.8.1\nLabel: RightImage Windows 2008R2 SP1 x64 sqlsvr2012 v5.8.8.1\nOS: Windows\nCategory: RightScale with Windows Server\nDescription: Windows 2012 with MS SQL Server 2012 Standard and RightLink 5.8.\nLocation: \nAffinity group: \nMedia link: \n\nName: bd507d3a70934695bc2128e3e5a255ba__RightImage-Windows-2008R2-SP1-x64-sqlsvr2012-v5.8.8.12\nLabel: RightImage Windows 2008R2 SP1 x64 sqlsvr2012 v5.8.8.12\nOS: Windows\nCategory: RightScale with Windows Server\nDescription: Windows 2012 with MS SQL Server 2012 Standard and RightLink 5.8.\nLocation: \nAffinity group: \nMedia link: \n\nName: bd507d3a70934695bc2128e3e5a255ba__RightImage-Windows-2008R2-SP1-x64-sqlsvr2012-v5.8.8.15\nLabel: RightImage Windows 2008R2 SP1 x64 sqlsvr2012 v5.8.8.15\nOS: Windows\nCategory: RightScale with Windows Server\nDescription: Windows 2012 with MS SQL Server 2012 Standard and RightLink 5.8.\nLocation: \nAffinity group: \nMedia link: \n\nName: bd507d3a70934695bc2128e3e5a255ba__RightImage-Windows-2008R2-SP1-x64-v5.8.8\nLabel: RightImage Windows 2008R2 SP1 x64 v5.8.8\nOS: Windows\nCategory: RightScale with Windows Server\nDescription: Windows 2012 with RightLink 5.8.\nLocation: \nAffinity group: \nMedia link: \n\nName: bd507d3a70934695bc2128e3e5a255ba__RightImage-Windows-2008R2-SP1-x64-v5.8.8.11\nLabel: RightImage Windows 2008R2 SP1 x64 v5.8.8.11\nOS: Windows\nCategory: RightScale with Windows Server\nDescription: Windows 2012 with RightLink 5.8.\nLocation: \nAffinity group: \nMedia link: \n\nName: bd507d3a70934695bc2128e3e5a255ba__RightImage-Windows-2008R2-x64-iis7.5-v13.4.12.2\nLabel: RightImage Windows 2008R2 x64 iis7.5 v13.4.12.2\nOS: Windows\nCategory: RightScale with Windows Server\nDescription: Windows 2008R2 with IIS 7.5 and RightLink 5.8\nLocation: \nAffinity group: \nMedia link: \n\nName: bd507d3a70934695bc2128e3e5a255ba__RightImage-Windows-2008R2-x64-sqlsvr2012-v13.4.3.1\nLabel: RightImage Windows 2008R2 x64 sqlsvr2012 v13.4.3.1\nOS: Windows\nCategory: RightScale with Windows Server\nDescription: Windows 2008R2 with MS SQL Server 2012 Standard and RightLink v5.8\nLocation: \nAffinity group: \nMedia link: \n\nName: bd507d3a70934695bc2128e3e5a255ba__RightImage-Windows-2008R2-x64-sqlsvr2012ent-v13.4.3.1\nLabel: RightImage Windows 2008R2 x64 sqlsvr2012ent v13.4.3.1\nOS: Windows\nCategory: RightScale with Windows Server\nDescription: Windows 2008R2 with MS SQL Server 2012 Enterprise and RightLink v5.8\nLocation: \nAffinity group: \nMedia link: \n\nName: bd507d3a70934695bc2128e3e5a255ba__RightImage-Windows-2008R2-x64-v13.4.12.2\nLabel: RightImage Windows 2008R2 x64 v13.4.12.2\nOS: Windows\nCategory: RightScale with Windows Server\nDescription: Windows 2008R2 with RightLink 5.8\nLocation: \nAffinity group: \nMedia link: \n\nName: bd507d3a70934695bc2128e3e5a255ba__RightImage-Windows-2012-x64-iis8-v13.4.12.2\nLabel: RightImage Windows 2012 x64 iis8 v13.4.12.2\nOS: Windows\nCategory: RightScale with Windows Server\nDescription: Windows 2012 with IIS 8 and RightLink 5.8\nLocation: \nAffinity group: \nMedia link: \n\nName: bd507d3a70934695bc2128e3e5a255ba__RightImage-Windows-2012-x64-iis8-v5.8.8.12\nLabel: RightImage Windows 2012 x64 iis8 v5.8.8.12\nOS: Windows\nCategory: RightScale with Windows Server\nDescription: Windows 2012 with IIS 8 and RightLink 5.8.\nLocation: \nAffinity group: \nMedia link: \n\nName: bd507d3a70934695bc2128e3e5a255ba__RightImage-Windows-2012-x64-v13.4.12.2\nLabel: RightImage Windows 2012 x64 v13.4.12.2\nOS: Windows\nCategory: RightScale with Windows Server\nDescription: Windows 2012 with RightLink 5.8\nLocation: \nAffinity group: \nMedia link: \n\nName: bd507d3a70934695bc2128e3e5a255ba__RightImage-Windows-2012-x64-v5.8.8.12\nLabel: RightImage Windows 2012 x64 v5.8.8.12\nOS: Windows\nCategory: RightScale with Windows Server\nDescription: Windows 2012 with RightLink 5.8.\nLocation: \nAffinity group: \nMedia link: \n\nName: c6e0f177abd8496e934234bd27f46c5d__SharePoint-2013-Trial-6-19-2013\nLabel: SharePoint Server 2013 Trial\nOS: Windows\nCategory: Microsoft SharePoint Group\nDescription: Microsoft SharePoint Server 2013 Trial on Windows Server 2012 Datacenter. Virtual Machines created with this trial image will expire on December 16, 2013. This image includes a complete installation of SharePoint Server 2013. Some SharePoint Server 2013 components require additional setup and configuration. You can set-up Active Directory and SQL Server required for your SharePoint farm by provisioning additional virtual machines. Minimum recommended virtual machine size for this image is Large. To evaluate the advanced capabilities of SharePoint Server 2013, we recommend that you use a virtual machine size of Extra Large.\nLocation: \nAffinity group: \nMedia link: \n\nName: fb83b3509582419d99629ce476bcb5c8__Microsoft-SQL-Server-2008R2SP2-Enterprise-CY13SU04-SQL2008-SP2-10.50.4021.0\nLabel: SQL Server 2008 R2 SP2 Enterprise On Windows Server 2008 R2 SP1\nOS: Windows\nCategory: Microsoft SQL Server Group\nDescription: SQL Server 2008 R2 SP2 Enterprise on Windows Server 2008 R2 Service Pack 1. This image contains the full version of SQL Server. Some SQL Server components require additional setup and configuration before use. We recommend that you use a virtual machine size of large or higher.\nLocation: \nAffinity group: \nMedia link: \n\nName: fb83b3509582419d99629ce476bcb5c8__Microsoft-SQL-Server-2008R2SP2-Standard-CY13SU04-SQL2008-SP2-10.50.4021.0\nLabel: SQL Server 2008 R2 SP2 Standard On Windows Server 2008 R2 SP1\nOS: Windows\nCategory: Microsoft SQL Server Group\nDescription: SQL Server 2008 R2 SP2 Standard on Windows Server 2008 R2 Service Pack 1. This image contains the full version of SQL Server. Some SQL Server components require additional setup and configuration before use. We recommend that you use a virtual machine size of large or higher.\nLocation: \nAffinity group: \nMedia link: \n\nName: fb83b3509582419d99629ce476bcb5c8__Microsoft-SQL-Server-2012SP1-CU4-11.0.3368.0-Enterprise-ENU-Win2012\nLabel: SQL Server 2012 SP1 Enterprise On Windows Server 2012\nOS: Windows\nCategory: Microsoft SQL Server Group\nDescription: SQL Server 2012 SP1 Enterprise on Windows Server 2012. This image contains the full version of SQL Server. Some SQL Server components require additional setup and configuration before use. We recommend that you use a virtual machine size of large or higher.\nLocation: \nAffinity group: \nMedia link: \n\nName: fb83b3509582419d99629ce476bcb5c8__Microsoft-SQL-Server-2012SP1-CU4-11.0.3368.0-Enterprise-ENU-Win2K8R2\nLabel: SQL Server 2012 SP1 Enterprise On Windows Server 2008 R2\nOS: Windows\nCategory: Microsoft SQL Server Group\nDescription: SQL Server 2012 SP1 Enterprise on Windows Server 2008 R2. This image contains the full version of SQL Server. Some SQL Server components require additional setup and configuration before use. We recommend that you use a virtual machine size of large or higher.\nLocation: \nAffinity group: \nMedia link: \n\nName: fb83b3509582419d99629ce476bcb5c8__Microsoft-SQL-Server-2012SP1-CU4-11.0.3368.0-Standard-ENU-Win2012\nLabel: SQL Server 2012 SP1 Standard On Windows Server 2012\nOS: Windows\nCategory: Microsoft SQL Server Group\nDescription: SQL Server 2012 SP1 Standard on Windows Server 2012. Some SQL Server components require additional setup and configuration before use. We recommend that you use a virtual machine size of large or higher.\nLocation: \nAffinity group: \nMedia link: \n\nName: fb83b3509582419d99629ce476bcb5c8__Microsoft-SQL-Server-2012SP1-Enterprise-CY13SU04-SQL11-SP1-CU3-11.0.3350.0-B\nLabel: SQL Server 2012 SP1 Enterprise On Windows Server 2008 R2 SP1\nOS: Windows\nCategory: Microsoft SQL Server Group\nDescription: Microsoft SQL Server 2012 SP1 Enterprise on Windows Server 2008 R2 Service Pack 1. This image contains the full version of SQL Server. Some SQL Server 2012 components require additional setup and configuration before use. We recommend that you use a virtual machine size of large or higher.\nLocation: \nAffinity group: \nMedia link: \n\nName: fb83b3509582419d99629ce476bcb5c8__Microsoft-SQL-Server-2012SP1-Enterprise-CY13SU04-SQL2012-SP1-11.0.3350.0-Win2012\nLabel: SQL Server 2012 SP1 Enterprise On Windows Server 2012\nOS: Windows\nCategory: Microsoft SQL Server Group\nDescription: SQL Server 2012 SP1 Enterprise on Windows Server 2012. This image contains the full version of SQL Server. Some SQL Server components require additional setup and configuration before use. We recommend that you use a virtual machine size of large or higher.\nLocation: \nAffinity group: \nMedia link: \n\nName: fb83b3509582419d99629ce476bcb5c8__Microsoft-SQL-Server-2012SP1-Standard-CY13SU04-SQL11-SP1-CU3-11.0.3350.0-B\nLabel: SQL Server 2012 SP1 Standard On Windows Server 2008 R2 SP1\nOS: Windows\nCategory: Microsoft SQL Server Group\nDescription: Microsoft SQL Server 2012 SP1 Standard on Windows Server 2008 R2 Service Pack 1. This image contains the full version of SQL Server. Some SQL Server 2012 components require additional setup and configuration before use. We recommend that you use a virtual machine size of large or higher.\nLocation: \nAffinity group: \nMedia link: \n\nName: fb83b3509582419d99629ce476bcb5c8__Microsoft-SQL-Server-2012SP1-Standard-CY13SU04-SQL2012-SP1-11.0.3350.0-Win2012\nLabel: SQL Server 2012 SP1 Standard On Windows Server 2012\nOS: Windows\nCategory: Microsoft SQL Server Group\nDescription: SQL Server 2012 SP1 Standard on Windows Server 2012. Some SQL Server 2012 components require additional setup and configuration before use. We recommend that you use a virtual machine size of large or higher.\nLocation: \nAffinity group: \nMedia link: \n\nName: fb83b3509582419d99629ce476bcb5c8__Microsoft-SQL-Server-2012SP1-Web-CY13SU04-SQL11-SP1-CU3-11.0.3350.0\nLabel: SQL Server 2012 SP1 Web On Windows Server 2008 R2 SP1\nOS: Windows\nCategory: Microsoft SQL Server Group\nDescription: Microsoft SQL Server 2012 SP1 Web on Windows Server 2008 R2 Service Pack 1. This image contains the full version of SQL Server. Some SQL Server 2012 components require additional setup and configuration before use. We recommend that you use a virtual machine size of large or higher.\nLocation: \nAffinity group: \nMedia link: \n\nName: fb83b3509582419d99629ce476bcb5c8__Microsoft-SQL-Server-2014CTP1-Evaluation-11.0.9120.5-Win2012\nLabel: SQL Server 2014 CTP1 Evaluation Edition On Windows Server 2012\nOS: Windows\nCategory: Microsoft SQL Server Group\nDescription: SQL Server 2014 CTP1 Evaluation Edition on Windows Server 2012. Virtual Machines created by using this SQL Server Evaluation Edition will expire on December 16th, 2013. This image contains the full version of SQL Server. Some SQL Server 2014 components require additional setup and configuration before use. We recommend that you use a virtual machine size of large or higher.\nLocation: \nAffinity group: \nMedia link: \n\nName: fb83b3509582419d99629ce476bcb5c8__Microsoft-SQL-Server-2014CTP1-Evaluation-11.0.9120.5-Win2012R2\nLabel: SQL Server 2014 CTP1 Evaluation Edition On Windows Server 2012 R2\nOS: Windows\nCategory: Microsoft SQL Server Group\nDescription: SQL Server 2014 CTP1 Evaluation Edition on Windows Server 2012 R2. Virtual Machines created by using this SQL Server Evaluation Edition will expire on December 18th, 2013. This image contains the full version of SQL Server. Some SQL Server 2014 components require additional setup and configuration before use. We recommend that you use a virtual machine size of large or higher.\nLocation: \nAffinity group: \nMedia link: \n\n"
      }
     ],
     "prompt_number": 195
    },
    {
     "cell_type": "markdown",
     "metadata": {},
     "source": "Let say we want to use Ubuntu LTS 12.04.  \nI see the ubunte image and its name is ```b39f27a8b8c64d52b05eac6a62ebad85__Ubuntu_DAILY_BUILD-precise-12_04_2-LTS-amd64-server-20130711-en-us-30GB```"
    },
    {
     "cell_type": "code",
     "collapsed": false,
     "input": "#Let's find images and pick the last one which might be the latest.\n\nfor image in result:\n    if image.os == \"Linux\":\n        if image.category == \"Canonical\":\n            try:\n                if image.label.index(\"12.04\"):\n                    image_name = image.name\n            except:\n                pass",
     "language": "python",
     "metadata": {},
     "outputs": [],
     "prompt_number": 196
    },
    {
     "cell_type": "code",
     "collapsed": false,
     "input": "print image_name",
     "language": "python",
     "metadata": {},
     "outputs": [
      {
       "output_type": "stream",
       "stream": "stdout",
       "text": "b39f27a8b8c64d52b05eac6a62ebad85__Ubuntu_DAILY_BUILD-precise-12_04_2-LTS-amd64-server-20130725-en-us-30GB\n"
      }
     ],
     "prompt_number": 197
    },
    {
     "cell_type": "markdown",
     "metadata": {},
     "source": "It seems we successfully obtained the image_name from the gallery.  \nNow, we need to get media_link."
    },
    {
     "cell_type": "markdown",
     "metadata": {},
     "source": "## Specify media link\n### storage account, container and blob"
    },
    {
     "cell_type": "markdown",
     "metadata": {},
     "source": "The media_link is a hyperlink to a blob file. The blob storage requires three component to address the blob in URL format.  \nThe storage account name, container, and blob file name are required in the following format:  ```http://$storage_ account.blob.core.windows.net/$container/$blob```   \nFor example,  \n```http://sally.blob.core.windows.net/movies/MOV1.AVI``` indicates sally account has a MOV1.AVI blob file in movies container.\n"
    },
    {
     "cell_type": "markdown",
     "metadata": {},
     "source": "### Storage account"
    },
    {
     "cell_type": "markdown",
     "metadata": {},
     "source": "We assume we already have a storage account. If you need to create a storage account, please see the tutorial here: http://www.windowsazure.com/en-us/develop/python/how-to-guides/service-management/#CreateStorageService"
    },
    {
     "cell_type": "markdown",
     "metadata": {},
     "source": "There is a function to list storage accounts. "
    },
    {
     "cell_type": "code",
     "collapsed": false,
     "input": "result = sms.list_storage_accounts()\nfor account in result:\n    print('Service name: ' + account.service_name)\n    print('Affinity group: ' + account.storage_service_properties.affinity_group)\n    print('Location: ' + account.storage_service_properties.location)\n    print('')\n    storage_account = account.service_name",
     "language": "python",
     "metadata": {},
     "outputs": [
      {
       "output_type": "stream",
       "stream": "stdout",
       "text": "Service name: biolinux\nAffinity group: \nLocation: Central US\n\nService name: portalvhdsn88gtkkpb6hq5\nAffinity group: \nLocation: Central US\n\n"
      }
     ],
     "prompt_number": 198
    },
    {
     "cell_type": "markdown",
     "metadata": {},
     "source": "We pick the last one from the example above."
    },
    {
     "cell_type": "code",
     "collapsed": false,
     "input": "print storage_account",
     "language": "python",
     "metadata": {},
     "outputs": [
      {
       "output_type": "stream",
       "stream": "stdout",
       "text": "portalvhdsn88gtkkpb6hq5\n"
      }
     ],
     "prompt_number": 199
    },
    {
     "cell_type": "markdown",
     "metadata": {},
     "source": "### Container and blob\n\nContainer and blob can be used or created if not exists. We use a sample name here."
    },
    {
     "cell_type": "code",
     "collapsed": false,
     "input": "container = name # \"os-image\"\nblob = rand + \"-ubuntu-12-04.vhd\"",
     "language": "python",
     "metadata": {},
     "outputs": [],
     "prompt_number": 200
    },
    {
     "cell_type": "markdown",
     "metadata": {},
     "source": "*Container names can contain only letters, numbers, and hyphens. The name must start with a letter or a number. The name can't contain two consecutive hyphens.*"
    },
    {
     "cell_type": "code",
     "collapsed": false,
     "input": "windows_blob_url = \"blob.core.windows.net\"\nmedia_link = \"http://\" + storage_account + \".\" + windows_blob_url + \"/\" + container + \"/\" + blob\nmedia_link",
     "language": "python",
     "metadata": {},
     "outputs": [
      {
       "output_type": "pyout",
       "prompt_number": 201,
       "text": "'http://portalvhdsn88gtkkpb6hq5.blob.core.windows.net/myvm-81ec2fbac6/81ec2fbac6bf6b0ec9e3ab1847040ae777a3042f-ubuntu-12-04.vhd'"
      }
     ],
     "prompt_number": 201
    },
    {
     "cell_type": "markdown",
     "metadata": {},
     "source": "We finally have image_name and media_link to run OSVirtualHardDisk()"
    },
    {
     "cell_type": "code",
     "collapsed": false,
     "input": "os_hd = OSVirtualHardDisk(image_name, media_link)",
     "language": "python",
     "metadata": {},
     "outputs": [],
     "prompt_number": 202
    },
    {
     "cell_type": "code",
     "collapsed": false,
     "input": "vars(os_hd)",
     "language": "python",
     "metadata": {},
     "outputs": [
      {
       "output_type": "pyout",
       "prompt_number": 203,
       "text": "{'disk_label': None,\n 'disk_name': None,\n 'host_caching': None,\n 'media_link': 'http://portalvhdsn88gtkkpb6hq5.blob.core.windows.net/myvm-81ec2fbac6/81ec2fbac6bf6b0ec9e3ab1847040ae777a3042f-ubuntu-12-04.vhd',\n 'os': u'',\n 'source_image_name': u'b39f27a8b8c64d52b05eac6a62ebad85__Ubuntu_DAILY_BUILD-precise-12_04_2-LTS-amd64-server-20130725-en-us-30GB'}"
      }
     ],
     "prompt_number": 203
    },
    {
     "cell_type": "markdown",
     "metadata": {},
     "source": "## Configure authentication for Linux"
    },
    {
     "cell_type": "code",
     "collapsed": false,
     "input": "# Linux VM configuration, you can use WindowsConfigurationSet\n# for a Windows VM instead\nlinux_user_id = 'azureuser'\nlinux_user_passwd = 'mypassword1234@' # Not going to be used unless the fourth parameter below is changed to False\nlinux_config = LinuxConfigurationSet(name, linux_user_id, linux_user_passwd, True)",
     "language": "python",
     "metadata": {},
     "outputs": [],
     "prompt_number": 204
    },
    {
     "cell_type": "markdown",
     "metadata": {},
     "source": "### Set SSH keys\n\nInstead of using pasword enabled authentication, SSH login can be used. We assume $HOME/.azure/.ssh is a home directory for storing ssh key pairs.  \nFor generating ssh keys using OpenSSL, please see [Introduction to Linux on Windows Azure](http://www.windowsazure.com/en-us/manage/linux/tutorials/intro-to-linux/)"
    },
    {
     "cell_type": "code",
     "collapsed": false,
     "input": "print vars(linux_config.ssh.public_keys)\nprint vars(linux_config.ssh.key_pairs)",
     "language": "python",
     "metadata": {},
     "outputs": [
      {
       "output_type": "stream",
       "stream": "stdout",
       "text": "{'public_keys': []}\n{'key_pairs': []}\n"
      }
     ],
     "prompt_number": 205
    },
    {
     "cell_type": "code",
     "collapsed": false,
     "input": "# !cd ~/.azure/\n# !mkdir .ssh\n# !openssl req -x509 -nodes -days 365 -newkey rsa:2048 -keyout myPrivateKey.key -out myCert.pem\n# !openssl pkcs12 -in myCert.pem -inkey myPrivateKey.key -export -out myCert.pfx",
     "language": "python",
     "metadata": {},
     "outputs": [],
     "prompt_number": 206
    },
    {
     "cell_type": "code",
     "collapsed": false,
     "input": "azure_config = os.environ[\"HOME\"] + '/.azure'\nthumbprint_path = azure_config + '/.ssh/thumbprint'\nauthorized_keys = \"/home/\" + linux_user_id + \"/.ssh/authorized_keys\"",
     "language": "python",
     "metadata": {},
     "outputs": [],
     "prompt_number": 207
    },
    {
     "cell_type": "markdown",
     "metadata": {},
     "source": "#### Thumbprint (fingerprint) for certificate"
    },
    {
     "cell_type": "code",
     "collapsed": false,
     "input": "try:\n    thumbprint=open(thumbprint_path, 'r').readline().split('\\n')[0]\nexcept:\n    thumbprint=None\n\nthumbprint",
     "language": "python",
     "metadata": {},
     "outputs": [
      {
       "output_type": "pyout",
       "prompt_number": 208,
       "text": "'C453D10B808245E0760CD015E88C5EB8A985ED7B'"
      }
     ],
     "prompt_number": 208
    },
    {
     "cell_type": "code",
     "collapsed": false,
     "input": "publickey = PublicKey(thumbprint, authorized_keys)\nlinux_config.ssh.public_keys.public_keys.append(publickey)\n# Key pair doesn't have to be stored on the virtual machine\n#keypair = KeyPair(thumbprint, u'/home/azureuser/.ssh/id_rsa')#key_pair_path)\n#linux_config.ssh.key_pairs.key_pairs.append(keypair)",
     "language": "python",
     "metadata": {},
     "outputs": [],
     "prompt_number": 209
    },
    {
     "cell_type": "code",
     "collapsed": false,
     "input": "print vars(publickey)\n#print vars(keypair)\nprint vars(linux_config.ssh.public_keys.public_keys.list_type)\n#print vars(linux_config.ssh.key_pairs)",
     "language": "python",
     "metadata": {},
     "outputs": [
      {
       "output_type": "stream",
       "stream": "stdout",
       "text": "{'path': '/home/azureuser/.ssh/authorized_keys', 'fingerprint': 'C453D10B808245E0760CD015E88C5EB8A985ED7B'}\n{'__module__': 'azure.servicemanagement', '__doc__': None, '__init__': <function __init__ at 0x357e9b0>}\n"
      }
     ],
     "prompt_number": 210
    },
    {
     "cell_type": "markdown",
     "metadata": {},
     "source": "## Configure Network Port\n\nssh uses port number 22. "
    },
    {
     "cell_type": "code",
     "collapsed": false,
     "input": "network = ConfigurationSet()\nnetwork.configuration_set_type = 'NetworkConfiguration'\nnetwork.input_endpoints.input_endpoints.append(ConfigurationSetInputEndpoint('ssh', 'tcp', '22', '22'))",
     "language": "python",
     "metadata": {},
     "outputs": [],
     "prompt_number": 211
    },
    {
     "cell_type": "markdown",
     "metadata": {},
     "source": "## Adds a certificate to a cloud (hosted) service (.pfx only supported)"
    },
    {
     "cell_type": "code",
     "collapsed": false,
     "input": "import base64\ncert_data_path = azure_config + \"/.ssh/myCert.pfx\"\nwith open(cert_data_path, \"rb\") as bfile:\n    cert_data = base64.b64encode(bfile.read())",
     "language": "python",
     "metadata": {},
     "outputs": [],
     "prompt_number": 212
    },
    {
     "cell_type": "code",
     "collapsed": false,
     "input": "cert_format = 'pfx'\ncert_password = ''\ncert_res = sms.add_service_certificate(service_name=name,\n                            data=cert_data,\n                            certificate_format=cert_format,\n                            password=cert_password)",
     "language": "python",
     "metadata": {},
     "outputs": [],
     "prompt_number": 213
    },
    {
     "cell_type": "code",
     "collapsed": false,
     "input": "vars(cert_res)",
     "language": "python",
     "metadata": {},
     "outputs": [
      {
       "output_type": "pyout",
       "prompt_number": 214,
       "text": "{'request_id': '6b333c955d90444c9cf29745c6837a40'}"
      }
     ],
     "prompt_number": 214
    },
    {
     "cell_type": "markdown",
     "metadata": {},
     "source": "## Create a virtual machine"
    },
    {
     "cell_type": "code",
     "collapsed": false,
     "input": "result = sms.create_virtual_machine_deployment(service_name=name,\n    deployment_name=name,\n    deployment_slot='production',\n    label=name,\n    role_name=name,\n    system_config=linux_config,\n    os_virtual_hard_disk=os_hd,\n    network_config=network,\n    role_size='Small')",
     "language": "python",
     "metadata": {},
     "outputs": [],
     "prompt_number": 216
    },
    {
     "cell_type": "markdown",
     "metadata": {},
     "source": "create_virtual_machine_deployment() returns an identification number to trace its status."
    },
    {
     "cell_type": "code",
     "collapsed": false,
     "input": "request_id = result.request_id\nrequest_id",
     "language": "python",
     "metadata": {},
     "outputs": [
      {
       "output_type": "pyout",
       "prompt_number": 217,
       "text": "'99ccaba70e83456381ee31ee1302c2c3'"
      }
     ],
     "prompt_number": 217
    },
    {
     "cell_type": "markdown",
     "metadata": {},
     "source": "## Check the deployment status\n\nTwo functions support tracing the status.  \n\n**get_operation_status()** returns the status in the form of 'Succeeded', 'Failed', or 'InProgress'.  \n(For more information, type sms.get_operation_status?)\n\n**get_deployment_by_name()** returns the detailed information for a deployment."
    },
    {
     "cell_type": "code",
     "collapsed": false,
     "input": "status = sms.get_operation_status(request_id)\ntry:\n    print vars(status.error)\nexcept:\n    print vars(status)",
     "language": "python",
     "metadata": {},
     "outputs": [
      {
       "output_type": "stream",
       "stream": "stdout",
       "text": "{'status': u'Succeeded', 'error': None, 'id': u'', 'http_status_code': u'200'}\n"
      }
     ],
     "prompt_number": 220
    },
    {
     "cell_type": "markdown",
     "metadata": {},
     "source": "## Return detailed information for a deployment\nOnce the get_operation_status() notified the success of the deployment, detailed information can be provided by get_deployment_by_name() function."
    },
    {
     "cell_type": "code",
     "collapsed": false,
     "input": "service_name = name\ndeployment_name = name\nprops = sms.get_deployment_by_name(service_name, deployment_name)\nvars(props)",
     "language": "python",
     "metadata": {},
     "outputs": [
      {
       "output_type": "pyout",
       "prompt_number": 221,
       "text": "{'configuration': u'<ServiceConfiguration xmlns:xsd=\"http://www.w3.org/2001/XMLSchema\" xmlns:xsi=\"http://www.w3.org/2001/XMLSchema-instance\" xmlns=\"http://schemas.microsoft.com/ServiceHosting/2008/10/ServiceConfiguration\">\\r\\n  <Role name=\"myvm-81ec2fbac6\">\\r\\n    <Instances count=\"1\" />\\r\\n  </Role>\\r\\n</ServiceConfiguration>',\n 'created_time': u'2013-07-25T19:37:54Z',\n 'deployment_slot': u'Production',\n 'extended_properties': {},\n 'input_endpoint_list': None,\n 'label': u'bXl2bS04MWVjMmZiYWM2',\n 'last_modified_time': u'',\n 'locked': False,\n 'name': u'myvm-81ec2fbac6',\n 'persistent_vm_downtime_info': None,\n 'private_id': u'55f4ad0e6d544aafb618d3e765205b35',\n 'role_instance_list': <azure.servicemanagement.RoleInstanceList at 0x3bd2990>,\n 'role_list': <azure.servicemanagement.RoleList at 0x3bd2f90>,\n 'rollback_allowed': False,\n 'sdk_version': u'',\n 'status': u'Running',\n 'upgrade_domain_count': u'1',\n 'upgrade_status': None,\n 'url': u'http://myvm-81ec2fbac6.cloudapp.net/'}"
      }
     ],
     "prompt_number": 221
    },
    {
     "cell_type": "markdown",
     "metadata": {},
     "source": "We finished several steps to deploy a Ubuntu 12.04 virutal machine image on Windows Azure with simple configurations.  \nWe can add more details when we deploy a virtual machine, for example, network settings, affinity groups, etc can be specified.  \nOther advanced tutorials will explain the details.\n\nNext tutorial is Connecting to a deployment and Installing a software in the deployment."
    }
   ],
   "metadata": {}
  }
 ]
}