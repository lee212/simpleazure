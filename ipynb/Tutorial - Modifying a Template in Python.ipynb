{
 "cells": [
  {
   "cell_type": "markdown",
   "metadata": {},
   "source": [
    "# Modifying a Template in Python"
   ]
  },
  {
   "cell_type": "markdown",
   "metadata": {},
   "source": [
    "Community templates offers large varity from Azure QuickStart Templates (four hundreds templates) and enables one-click Azure service deployments by importing existing templates yet modifications are required to have customized infrastructure with particular configurations.\n",
    "\n",
    "Simple Azure allows you to write/edit a template in Python with an editor package (python-editor). The changed template can be saved for future use by an export function."
   ]
  },
  {
   "cell_type": "markdown",
   "metadata": {},
   "source": [
    "## Example: Changing *101-vm-sshkey* template to deploy 3 VMs"
   ]
  },
  {
   "cell_type": "markdown",
   "metadata": {},
   "source": [
    "In the previous tutorial, *101-vm-sshkey* template was introduced to deploy a Ubuntu VM with a ssh key from Azure QuickStart Templates. Now, we may want to deploy three VMs using the template therefore a VM image and size are identical within a same virtual network. This also may help install hadoop clusters, for example if we want to setup [NIST Fingerprint Matching](https://github.com/cloudmesh/example-project-nist-fingerprint-matching) with Apache Drill and HBase. Deploying software stacks on top of multiple VMs will be explained in the next tutorial."
   ]
  },
  {
   "cell_type": "markdown",
   "metadata": {},
   "source": [
    "## Load 101-vm-sshkey template"
   ]
  },
  {
   "cell_type": "markdown",
   "metadata": {},
   "source": [
    "First step is to load a *101-vm-sshkey* template to make changes."
   ]
  },
  {
   "cell_type": "code",
   "execution_count": 1,
   "metadata": {
    "collapsed": false
   },
   "outputs": [],
   "source": [
    "from simpleazure import SimpleAzure"
   ]
  },
  {
   "cell_type": "code",
   "execution_count": null,
   "metadata": {
    "collapsed": true
   },
   "outputs": [],
   "source": [
    "import os\n",
    "os.environ['AZURE_SUBSCRIPTION_ID'] = $sid\n",
    "os.environ['AZURE_CLIENT_SECRET'] = $password\n",
    "os.environ['AZURE_TENANT_ID'] = $tid\n",
    "os.environ['AZURE_CLIENT_ID'] = $cid"
   ]
  },
  {
   "cell_type": "code",
   "execution_count": 3,
   "metadata": {
    "collapsed": false
   },
   "outputs": [],
   "source": [
    "saz = SimpleAzure()\n",
    "vm_sshkey = saz.aqst.get_template('101-vm-sshkey')"
   ]
  },
  {
   "cell_type": "markdown",
   "metadata": {},
   "source": [
    "## Edit a Template using System's Editor"
   ]
  },
  {
   "cell_type": "markdown",
   "metadata": {},
   "source": [
    "Editor module provides an interface to modify your JSON template via System's editor e.g. vim, nano or emacs. The following function **edit()** opens an editor in your python although it is not supported in IPython Notebook. Screenshot is attached instead."
   ]
  },
  {
   "cell_type": "code",
   "execution_count": 11,
   "metadata": {
    "collapsed": false
   },
   "outputs": [],
   "source": [
    "# This call is valid on a python interactive shell, not on IPython Notebook\n",
    "# updated_vm_sshkey = vm_sshkey.edit()"
   ]
  },
  {
   "cell_type": "markdown",
   "metadata": {},
   "source": [
    "![alt python-editor](https://raw.githubusercontent.com/lee212/simpleazure/master/ipynb/files/python-editor.png 'python-editor')"
   ]
  },
  {
   "cell_type": "markdown",
   "metadata": {},
   "source": [
    "### Multiple Instances using Azure Template Iteration Function"
   ]
  },
  {
   "cell_type": "markdown",
   "metadata": {},
   "source": [
    "Azure Template offers **copy** loop function to iterate resource items in Template. This is useful if we want to create multiple instances with a same properties e.g. VM image and size but different names with index. We will try to use the **copy** loop in this tutorial to create three VM instances from the **101-vm-sshkey** base template. For more information, see the documenation [here](https://azure.microsoft.com/en-us/documentation/articles/resource-group-create-multiple/)."
   ]
  },
  {
   "cell_type": "markdown",
   "metadata": {},
   "source": [
    "### Resources to be changed"
   ]
  },
  {
   "cell_type": "markdown",
   "metadata": {},
   "source": [
    "A VM (Microsoft.Compute/virtualMachines) starts with a network interface (Microsoft.Network/networkInterfaces) and a public IP address (Microsoft.Network/publicIPAddresses) in this template where the **copy** loop is also applied.\n",
    "\n",
    "- Microsoft.Compute/virtualMachines\n",
    "- Microsoft.Network/networkInterfaces\n",
    "- Microsoft.Network/publicIPAddresses"
   ]
  },
  {
   "cell_type": "markdown",
   "metadata": {},
   "source": [
    "For your convenience, updated template is provided in the files folder. If you'd like to see the template, try to run this in ipython cell:\n",
    "\n",
    "- %load /home/jovyan/work/files/101-vm-sshkey-for-3vms.json"
   ]
  },
  {
   "cell_type": "markdown",
   "metadata": {},
   "source": [
    "### Resource not to be changed"
   ]
  },
  {
   "cell_type": "markdown",
   "metadata": {},
   "source": [
    "The following resources are not changed as one resource is shared:\n",
    "    \n",
    "    - Microsoft.Network/networkSecurityGroups\n",
    "    - Microsoft.Network/virtualNetworks"
   ]
  },
  {
   "cell_type": "markdown",
   "metadata": {},
   "source": [
    "## Diff Two Templates"
   ]
  },
  {
   "cell_type": "markdown",
   "metadata": {},
   "source": [
    "To quickly review changes, a helper function is provided for a template comparison. \n",
    "\n",
    "**[template object].diff()** function compares two templates and shows differences. Before we compare the original vm_sshkey (``101-vm-sshkey``) and the new updated_vm_sshkey (``101-vm-sshkey-for-3vms``) templates, we load the updated template from a file in this tutorial. This can be skipped if you manually updated the original template using a system editor with edit() function. The updated template is identical to the 101-vm-sshkey template except deploying 3 vms."
   ]
  },
  {
   "cell_type": "code",
   "execution_count": 65,
   "metadata": {
    "collapsed": true
   },
   "outputs": [],
   "source": [
    "from simpleazure.template.template import Template\n",
    "updated_vm_sshkey = Template()\n",
    "updated_vm_sshkey.read_template(\"/home/jovyan/work/files/101-vm-sshkey-for-3vms.json\")"
   ]
  },
  {
   "cell_type": "markdown",
   "metadata": {},
   "source": [
    "Provide the update template object to the original using **diff** method. Output is similar to system diff command."
   ]
  },
  {
   "cell_type": "code",
   "execution_count": 32,
   "metadata": {
    "collapsed": false
   },
   "outputs": [
    {
     "name": "stdout",
     "output_type": "stream",
     "text": [
      "--- a\n",
      "+++ b\n",
      "{\n",
      " 'azuredeploy': {\n",
      "  u'$schema': u'http://schema.management.azure.com/schemas/2014-04-01-preview/deploymentTemplate.json',\n",
      "  u'contentVersion': u'1.0.0.0',\n",
      "  u'outputs': {u'sshCommand': {u'type': u'string', u'value': u\"[concat('ssh ', parameters('adminUsername'), '@', variables('uniqueDnsLabelPrefix'), '.', resourceGroup().location, '.cloudapp.azure.com')]\"}},\n",
      "  u'parameters': {\n",
      "   u'adminUserName': {u'defaultValue': u'azureuser', u'type': u'string', u'metadata': {u'description': u'User name for the Virtual Machine.'}},\n",
      "  +u'numberOfInstances': {u'defaultValue': 3, u'type': u'int', u'metadata': {u'description': u'Number of Instances to start'}},\n",
      "  @@  @@\n",
      "  },\n",
      "  u'resources': [\n",
      "  @@ -4,1 +4,1 @@\n",
      "  @@  @@\n",
      "  @@ -4,0 +4,0 @@\n",
      "     {\n",
      "    u'apiVersion': u\"[variables('apiVersion')]\",\n",
      "   +u'copy': {u'count': u\"[parameters('numberOfInstances')]\", u'name': u'ipLoop'},\n",
      "    u'location': u\"[variables('location')]\",\n",
      "   -u'name': u\"[variables('publicIPAddressName')]\",\n",
      "   +u'name': u\"[concat(variables('publicIPAddressName'), copyindex())]\",\n",
      "    u'properties': {\n",
      "     u'dnsSettings': {\n",
      "     -u'domainNameLabel': u\"[variables('uniqueDnsLabelPrefix')]\",\n",
      "     +u'domainNameLabel': u\"[concat(variables('uniqueDnsLabelPrefix'), copyindex())]\",\n",
      "     @@  @@\n",
      "     },\n",
      "     u'publicIPAllocationMethod': u\"[variables('publicIPAddressType')]\",\n",
      "    @@  @@\n",
      "    },\n",
      "    u'type': u'Microsoft.Network/publicIPAddresses',\n",
      "   @@  @@\n",
      "   },\n",
      "  @@  @@\n",
      "  @@ -6,5 +6,5 @@\n",
      "     {\n",
      "    u'apiVersion': u\"[variables('apiVersion')]\",\n",
      "   +u'copy': {u'count': u\"[parameters('numberOfInstances')]\", u'name': u'nicLoop'},\n",
      "    u'dependsOn': [\n",
      "    @@ -0 +0 @@\n",
      "    -u\"[concat('Microsoft.Network/publicIPAddresses/', variables('publicIPAddressName'))]\",\n",
      "    +u\"[concat('Microsoft.Network/publicIPAddresses/', concat(variables('publicIPAddressName'), copyindex()))]\",\n",
      "    @@  @@\n",
      "    ],\n",
      "    u'location': u\"[variables('location')]\",\n",
      "   -u'name': u\"[variables('nicName')]\",\n",
      "   +u'name': u\"[concat(variables('nicName'), copyindex())]\",\n",
      "    u'properties': {\n",
      "     u'ipConfigurations': [\n",
      "     @@ -0 +0 @@\n",
      "           {\n",
      "       u'name': u'ipconfig1',\n",
      "       u'properties': {\n",
      "        u'privateIPAllocationMethod': u'Dynamic',\n",
      "        u'publicIPAddress': {\n",
      "        -u'id': u\"[resourceId('Microsoft.Network/publicIPAddresses', variables('publicIPAddressName'))]\",\n",
      "        +u'id': u\"[resourceId('Microsoft.Network/publicIPAddresses', concat(variables('publicIPAddressName'), copyindex()))]\",\n",
      "        @@  @@\n",
      "        },\n",
      "        u'subnet': {u'id': u\"[variables('subnet1Ref')]\"},\n",
      "       @@  @@\n",
      "       },\n",
      "      @@  @@\n",
      "      },\n",
      "     ],\n",
      "    @@  @@\n",
      "    },\n",
      "    u'type': u'Microsoft.Network/networkInterfaces',\n",
      "   @@  @@\n",
      "   },\n",
      "     {\n",
      "    u'apiVersion': u\"[variables('apiVersion')]\",\n",
      "   +u'copy': {u'count': u\"[parameters('numberOfInstances')]\", u'name': u'virtualMachineLoop'},\n",
      "    u'dependsOn': [\n",
      "    @@ -5,0 +5,0 @@\n",
      "    @@  @@\n",
      "    @@ -5,1 +5,1 @@\n",
      "    -u\"[concat('Microsoft.Network/networkInterfaces/', variables('nicName'))]\",\n",
      "    +u\"[concat('Microsoft.Network/networkInterfaces/', concat(variables('nicName'), copyindex()))]\",\n",
      "    ],\n",
      "    u'location': u\"[variables('location')]\",\n",
      "   -u'name': u\"[variables('vmName')]\",\n",
      "   +u'name': u\"[concat(variables('vmName'), copyindex())]\",\n",
      "    u'properties': {\n",
      "     u'hardwareProfile': {u'vmSize': u\"[variables('vmSize')]\"},\n",
      "     u'networkProfile': {\n",
      "      u'networkInterfaces': [\n",
      "      @@ -0 +0 @@\n",
      "             {\n",
      "       -u'id': u\"[resourceId('Microsoft.Network/networkInterfaces', variables('nicName'))]\",\n",
      "       +u'id': u\"[resourceId('Microsoft.Network/networkInterfaces', concat(variables('nicName'), copyindex()))]\",\n",
      "       @@  @@\n",
      "       },\n",
      "      ],\n",
      "     @@  @@\n",
      "     },\n",
      "     u'osProfile': {\n",
      "      u'adminUsername': u\"[parameters('adminUserName')]\",\n",
      "     -u'computerName': u\"[variables('vmName')]\",\n",
      "     +u'computerName': u\"[concat(variables('vmName'), copyindex())]\",\n",
      "      u'linuxConfiguration': {u'ssh': {u'publicKeys': [{u'path': u\"[variables('sshKeyPath')]\", u'keyData': u\"[parameters('sshKeyData')]\"}]}, u'disablePasswordAuthentication': u'true'},\n",
      "     @@  @@\n",
      "     },\n",
      "     u'storageProfile': {\n",
      "      u'imageReference': {u'sku': u\"[variables('ubuntuOSVersion')]\", u'publisher': u\"[variables('imagePublisher')]\", u'version': u'latest', u'offer': u\"[variables('imageOffer')]\"},\n",
      "      u'osDisk': {\n",
      "       u'caching': u'ReadWrite',\n",
      "       u'createOption': u'FromImage',\n",
      "      -u'name': u'osdisk',\n",
      "      +u'name': u\"[concat('osdisk', copyindex())]\",\n",
      "       u'vhd': {\n",
      "       -u'uri': u\"[concat('http://',variables('storageAccountName'),'.blob.core.windows.net/',variables('vmStorageAccountContainerName'),'/', variables('osDiskName'),'.vhd')]\",\n",
      "       +u'uri': u\"[concat('http://',variables('storageAccountName'),'.blob.core.windows.net/',variables('vmStorageAccountContainerName'),'/', variables('osDiskName'), copyindex(), '.vhd')]\",\n",
      "       @@  @@\n",
      "       },\n",
      "      @@  @@\n",
      "      },\n",
      "     @@  @@\n",
      "     },\n",
      "    @@  @@\n",
      "    },\n",
      "    u'type': u'Microsoft.Compute/virtualMachines',\n",
      "   @@  @@\n",
      "   },\n",
      "  ],\n",
      " @@  @@\n",
      " },\n",
      " 'etc': [],\n",
      " 'metadata': {u'githubUsername': u'squillace', u'dateUpdated': u'2015-06-05', u'itemDisplayName': u'Deploy a Virtual Machine with SSH rsa public key', u'description': u'This template allows you to create a Virtual Machine with SSH rsa public key', u'summary': u'Deploy a Virtual Machine with SSH rsa public key'},\n",
      " 'parameters': {\n",
      "  u'$schema': u'http://schema.management.azure.com/schemas/2015-01-01/deploymentParameters.json#',\n",
      "  u'contentVersion': u'1.0.0.0',\n",
      "  u'parameters': {\n",
      "  +u'numberOfInstances': {u'value': 3},\n",
      "   u'sshKeyData': {\n",
      "   -u'value': u'GEN-SSH-PUB-KEY',\n",
      "   +u'value': u'ssh-rsa AAAAB...<skipped>... hroe.lee@simpleazure',\n",
      "   @@  @@\n",
      "   },\n",
      "  @@  @@\n",
      "  },\n",
      " },\n",
      " 'scripts': '',\n",
      "@@  @@\n",
      "}\n"
     ]
    }
   ],
   "source": [
    "vm_sshkey.diff(updated_vm_sshkey)"
   ]
  },
  {
   "cell_type": "markdown",
   "metadata": {},
   "source": [
    "Review the lines with **+** and **-** where **+** indicates an updated line and **-** indicates an original line.\n",
    "\n",
    "For example, a new parameter **numberOfInstances** is added to specify a number of vms to start, 3 is given in this example to produce 3 vms. (find the *numberOfInstances* at the last part of the content )\n",
    "\n",
    "The resources- virtualMachines, networkInterfaces, and publicIPAddresses- are now described with **copy** loop function to iterate a resource creation witn an index for unique name (copyindex() is used for index). For example, virtualMachine names are described with template functions: **concat( [variables('vmName')], copyindex())** and actual values are like sshvm1, sshvm2 and sshvm3.\n",
    "\n",
    "Number of virtual machines\n",
    "- Original: 1 vm\n",
    "- Updated: 3 vms\n",
    "- Change:  \n",
    "    * +u'copy': {u'count': u\"[parameters('numberOfInstances')]\", u'name': u'virtualMachineLoop'},\n",
    "\n",
    "Virtual machine Names\n",
    "- Original: sshvm\n",
    "- Updated: sshvm1, sshvm2, sshvm3\n",
    "- Change:    \n",
    "    * -u'name': u\"[variables('vmName')]\",\n",
    "    *  +u'name': u\"[concat(variables('vmName'), copyindex())]\",\n",
    "    \n",
    "Public IP address names\n",
    "- Original: sshPublicIP\n",
    "- Updated: sshPublicIP1, sshPublicIP2, sshPublicIP3\n",
    "- Change:\n",
    "    * -u'name': u\"[variables('publicIPAddressName')]\",\n",
    "    * +u'name': u\"[concat(variables('publicIPAddressName'), copyindex())]\",\n",
    "    \n",
    "Network interface names\n",
    "- Original: sshNIC\n",
    "- Updated: sshNIC1, sshNIC2, sshNIC3\n",
    "- change:\n",
    "   * -u'name': u\"[variables('nicName')]\",\n",
    "   * +u'name': u\"[concat(variables('nicName'), copyindex())]\",\n",
    "\n",
    "Similar changes are made towards networkInterfaces and publicIPAddresses because these resources depend on virual machines."
   ]
  },
  {
   "cell_type": "markdown",
   "metadata": {},
   "source": [
    "## Load Updated Template for ARM"
   ]
  },
  {
   "cell_type": "markdown",
   "metadata": {},
   "source": [
    "The updated template (updated_vm_sshkey) is ready to deploy 3 vms. Let's use Azure Resource Manager (ARM) in Simple Azure.\n",
    "\n",
    "Note: template validation is not supported in the current version."
   ]
  },
  {
   "cell_type": "code",
   "execution_count": 66,
   "metadata": {
    "collapsed": false
   },
   "outputs": [],
   "source": [
    "saz.arm.load_template(updated_vm_sshkey)"
   ]
  },
  {
   "cell_type": "markdown",
   "metadata": {},
   "source": [
    "### Confirm Paramters"
   ]
  },
  {
   "cell_type": "markdown",
   "metadata": {},
   "source": [
    "Just to make sure what parameters are given. For example, review login username (adminUsername) and public ssh key string (sshKeyData)."
   ]
  },
  {
   "cell_type": "code",
   "execution_count": 67,
   "metadata": {
    "collapsed": false
   },
   "outputs": [
    {
     "data": {
      "text/plain": [
       "{u'adminUsername': {u'value': u'azureuser'},\n",
       " u'numberOfInstances': {u'value': 3},\n",
       " u'sshKeyData': {u'value': u'ssh-rsa AAAAB...<skipped>... hroe.lee@simpleazure'}}"
      ]
     },
     "execution_count": 67,
     "metadata": {},
     "output_type": "execute_result"
    }
   ],
   "source": [
    "saz.arm.parameters"
   ]
  },
  {
   "cell_type": "markdown",
   "metadata": {},
   "source": [
    "### Update Parameter"
   ]
  },
  {
   "cell_type": "markdown",
   "metadata": {},
   "source": [
    "Let's change a login user name to 'simpleazure' just for a practice."
   ]
  },
  {
   "cell_type": "code",
   "execution_count": 68,
   "metadata": {
    "collapsed": false
   },
   "outputs": [
    {
     "data": {
      "text/plain": [
       "{u'adminUsername': {u'value': 'simpleazure'},\n",
       " u'numberOfInstances': {u'value': 3},\n",
       " u'sshKeyData': {u'value': u'ssh-rsa AAAAB...<skipped>... hroe.lee@simpleazure'}}"
      ]
     },
     "execution_count": 68,
     "metadata": {},
     "output_type": "execute_result"
    }
   ],
   "source": [
    "saz.arm.add_parameter({\"adminUsername\":'simpleazure'})"
   ]
  },
  {
   "cell_type": "markdown",
   "metadata": {},
   "source": [
    "Remember, **simpleazure** login name will be used in SSH client."
   ]
  },
  {
   "cell_type": "markdown",
   "metadata": {},
   "source": [
    "## Deploy New Version"
   ]
  },
  {
   "cell_type": "markdown",
   "metadata": {},
   "source": [
    "It's time to deploy 3 VMs using the updated template. Just wait and see its deployment. It may take 2-3 minutes."
   ]
  },
  {
   "cell_type": "code",
   "execution_count": 40,
   "metadata": {
    "collapsed": false,
    "scrolled": true
   },
   "outputs": [
    {
     "name": "stdout",
     "output_type": "stream",
     "text": [
      "214.69 elapsed time for the deployment\n"
     ]
    },
    {
     "data": {
      "text/plain": [
       "<msrestazure.azure_operation.AzureOperationPoller at 0x7fd7948b8dd0>"
      ]
     },
     "execution_count": 40,
     "metadata": {},
     "output_type": "execute_result"
    }
   ],
   "source": [
    "saz.arm.deploy()"
   ]
  },
  {
   "cell_type": "markdown",
   "metadata": {},
   "source": [
    "It took about 3 minutes and deployed resources are also visible at the portal."
   ]
  },
  {
   "cell_type": "markdown",
   "metadata": {},
   "source": [
    "![alt Screenshot of deployed resources](https://raw.githubusercontent.com/lee212/simpleazure/master/ipynb/files/deployed-3vms.png 'Screenshot of deployed resources')\n"
   ]
  },
  {
   "cell_type": "markdown",
   "metadata": {},
   "source": [
    "## Access Information"
   ]
  },
  {
   "cell_type": "markdown",
   "metadata": {},
   "source": [
    "Public IP addresses are provided to get access launched VMs."
   ]
  },
  {
   "cell_type": "code",
   "execution_count": 52,
   "metadata": {
    "collapsed": false
   },
   "outputs": [
    {
     "data": {
      "text/plain": [
       "[u'40.77.67.172', u'104.208.36.189', u'40.77.71.155']"
      ]
     },
     "execution_count": 52,
     "metadata": {},
     "output_type": "execute_result"
    }
   ],
   "source": [
    "saz.arm.view_info()"
   ]
  },
  {
   "cell_type": "markdown",
   "metadata": {},
   "source": [
    "### Sample SSH Access"
   ]
  },
  {
   "cell_type": "markdown",
   "metadata": {},
   "source": [
    "```\n",
    "$ ssh simpleazure@40.77.67.172\n",
    "The authenticity of host '40.77.67.172 (40.77.67.172)' can't be established.\n",
    "ECDSA key fingerprint is ec:98:eb:c9:eb:2c:b5:f2:b3:9e:64:36:d1:b4:38:2b.\n",
    "Are you sure you want to continue connecting (yes/no)? yes\n",
    "Warning: Permanently added '40.77.67.172' (ECDSA) to the list of known hosts.\n",
    "Welcome to Ubuntu 14.04.4 LTS (GNU/Linux 3.19.0-65-generic x86_64)\n",
    "\n",
    " * Documentation:  https://help.ubuntu.com/\n",
    "\n",
    "  System information as of Thu Oct 27 04:58:18 UTC 2016\n",
    "\n",
    "  System load: 0.39              Memory usage: 1%   Processes:       90\n",
    "  Usage of /:  39.6% of 1.94GB   Swap usage:   0%   Users logged in: 0\n",
    "\n",
    "  Graph this data and manage this system at:\n",
    "    https://landscape.canonical.com/\n",
    "\n",
    "  Get cloud support with Ubuntu Advantage Cloud Guest:\n",
    "    http://www.ubuntu.com/business/services/cloud\n",
    "\n",
    "0 packages can be updated.\n",
    "0 updates are security updates.\n",
    "\n",
    "\n",
    "\n",
    "The programs included with the Ubuntu system are free software;\n",
    "the exact distribution terms for each program are described in the\n",
    "individual files in /usr/share/doc/*/copyright.\n",
    "\n",
    "Ubuntu comes with ABSOLUTELY NO WARRANTY, to the extent permitted by\n",
    "applicable law.\n",
    "\n",
    "simpleazure@sshvm0:~$\n",
    "```"
   ]
  },
  {
   "cell_type": "markdown",
   "metadata": {},
   "source": [
    "## Export Template"
   ]
  },
  {
   "cell_type": "markdown",
   "metadata": {},
   "source": [
    "Simple Azure allows you to save your new template therefore it can be used for the future deployments. Or additional changes can be made from the updated template, for example, customscript to run initial script. \n",
    "\n",
    "Note: customscript is Azure Extensions to run a script after its provisioning. See more from [documentation](https://azure.microsoft.com/en-us/documentation/articles/virtual-machines-windows-extensions-customscript/) or [example](https://github.com/Azure/azure-quickstart-templates/blob/master/201-discover-private-ip-dynamically/azuredeploy.json)"
   ]
  },
  {
   "cell_type": "markdown",
   "metadata": {},
   "source": [
    "**export_template()** returns a loaded template from ARM object."
   ]
  },
  {
   "cell_type": "code",
   "execution_count": 69,
   "metadata": {
    "collapsed": false
   },
   "outputs": [
    {
     "data": {
      "text/plain": [
       "{u'azuredeploy': {u'$schema': u'http://schema.management.azure.com/schemas/2014-04-01-preview/deploymentTemplate.json',\n",
       "  u'contentVersion': u'1.0.0.0',\n",
       "  u'outputs': {u'sshCommand': {u'type': u'string',\n",
       "    u'value': u\"[concat('ssh ', parameters('adminUsername'), '@', variables('uniqueDnsLabelPrefix'), '.', resourceGroup().location, '.cloudapp.azure.com')]\"}},\n",
       "  u'parameters': {u'adminUserName': {u'defaultValue': u'azureuser',\n",
       "    u'metadata': {u'description': u'User name for the Virtual Machine.'},\n",
       "    u'type': u'string'},\n",
       "   u'numberOfInstances': {u'defaultValue': 3,\n",
       "    u'metadata': {u'description': u'Number of Instances to start'},\n",
       "    u'type': u'int'},\n",
       "   u'sshKeyData': {u'metadata': {u'description': u'SSH rsa public key file as a string.'},\n",
       "    u'type': u'string'}},\n",
       "  u'resources': [{u'apiVersion': u\"[variables('apiVersion')]\",\n",
       "    u'location': u\"[variables('location')]\",\n",
       "    u'name': u\"[variables('storageAccountName')]\",\n",
       "    u'properties': {u'accountType': u\"[variables('storageAccountType')]\"},\n",
       "    u'type': u'Microsoft.Storage/storageAccounts'},\n",
       "   {u'apiVersion': u\"[variables('apiVersion')]\",\n",
       "    u'location': u\"[variables('location')]\",\n",
       "    u'name': u\"[variables('networkSecurityGroupName')]\",\n",
       "    u'properties': {u'securityRules': [{u'name': u'ssh_rule',\n",
       "       u'properties': {u'access': u'Allow',\n",
       "        u'description': u'Locks inbound down to ssh default port 22.',\n",
       "        u'destinationAddressPrefix': u'*',\n",
       "        u'destinationPortRange': u'22',\n",
       "        u'direction': u'Inbound',\n",
       "        u'priority': 123,\n",
       "        u'protocol': u'Tcp',\n",
       "        u'sourceAddressPrefix': u'*',\n",
       "        u'sourcePortRange': u'*'}}]},\n",
       "    u'type': u'Microsoft.Network/networkSecurityGroups'},\n",
       "   {u'apiVersion': u\"[variables('apiVersion')]\",\n",
       "    u'copy': {u'count': u\"[parameters('numberOfInstances')]\",\n",
       "     u'name': u'ipLoop'},\n",
       "    u'location': u\"[variables('location')]\",\n",
       "    u'name': u\"[concat(variables('publicIPAddressName'), copyindex())]\",\n",
       "    u'properties': {u'dnsSettings': {u'domainNameLabel': u\"[concat(variables('uniqueDnsLabelPrefix'), copyindex())]\"},\n",
       "     u'publicIPAllocationMethod': u\"[variables('publicIPAddressType')]\"},\n",
       "    u'type': u'Microsoft.Network/publicIPAddresses'},\n",
       "   {u'apiVersion': u\"[variables('apiVersion')]\",\n",
       "    u'dependsOn': [u\"[concat('Microsoft.Network/networkSecurityGroups/', variables('networkSecurityGroupName'))]\"],\n",
       "    u'location': u\"[variables('location')]\",\n",
       "    u'name': u\"[variables('virtualNetworkName')]\",\n",
       "    u'properties': {u'addressSpace': {u'addressPrefixes': [u\"[variables('addressPrefix')]\"]},\n",
       "     u'subnets': [{u'name': u\"[variables('subnet1Name')]\",\n",
       "       u'properties': {u'addressPrefix': u\"[variables('subnet1Prefix')]\",\n",
       "        u'networkSecurityGroup': {u'id': u\"[resourceId('Microsoft.Network/networkSecurityGroups', variables('networkSecurityGroupName'))]\"}}}]},\n",
       "    u'type': u'Microsoft.Network/virtualNetworks'},\n",
       "   {u'apiVersion': u\"[variables('apiVersion')]\",\n",
       "    u'copy': {u'count': u\"[parameters('numberOfInstances')]\",\n",
       "     u'name': u'nicLoop'},\n",
       "    u'dependsOn': [u\"[concat('Microsoft.Network/publicIPAddresses/', concat(variables('publicIPAddressName'), copyindex()))]\",\n",
       "     u\"[concat('Microsoft.Network/virtualNetworks/', variables('virtualNetworkName'))]\"],\n",
       "    u'location': u\"[variables('location')]\",\n",
       "    u'name': u\"[concat(variables('nicName'), copyindex())]\",\n",
       "    u'properties': {u'ipConfigurations': [{u'name': u'ipconfig1',\n",
       "       u'properties': {u'privateIPAllocationMethod': u'Dynamic',\n",
       "        u'publicIPAddress': {u'id': u\"[resourceId('Microsoft.Network/publicIPAddresses', concat(variables('publicIPAddressName'), copyindex()))]\"},\n",
       "        u'subnet': {u'id': u\"[variables('subnet1Ref')]\"}}}]},\n",
       "    u'type': u'Microsoft.Network/networkInterfaces'},\n",
       "   {u'apiVersion': u\"[variables('apiVersion')]\",\n",
       "    u'copy': {u'count': u\"[parameters('numberOfInstances')]\",\n",
       "     u'name': u'virtualMachineLoop'},\n",
       "    u'dependsOn': [u\"[concat('Microsoft.Storage/storageAccounts/', variables('storageAccountName'))]\",\n",
       "     u\"[concat('Microsoft.Network/networkInterfaces/', concat(variables('nicName'), copyindex()))]\"],\n",
       "    u'location': u\"[variables('location')]\",\n",
       "    u'name': u\"[concat(variables('vmName'), copyindex())]\",\n",
       "    u'properties': {u'hardwareProfile': {u'vmSize': u\"[variables('vmSize')]\"},\n",
       "     u'networkProfile': {u'networkInterfaces': [{u'id': u\"[resourceId('Microsoft.Network/networkInterfaces', concat(variables('nicName'), copyindex()))]\"}]},\n",
       "     u'osProfile': {u'adminUsername': u\"[parameters('adminUserName')]\",\n",
       "      u'computerName': u\"[concat(variables('vmName'), copyindex())]\",\n",
       "      u'linuxConfiguration': {u'disablePasswordAuthentication': u'true',\n",
       "       u'ssh': {u'publicKeys': [{u'keyData': u\"[parameters('sshKeyData')]\",\n",
       "          u'path': u\"[variables('sshKeyPath')]\"}]}}},\n",
       "     u'storageProfile': {u'imageReference': {u'offer': u\"[variables('imageOffer')]\",\n",
       "       u'publisher': u\"[variables('imagePublisher')]\",\n",
       "       u'sku': u\"[variables('ubuntuOSVersion')]\",\n",
       "       u'version': u'latest'},\n",
       "      u'osDisk': {u'caching': u'ReadWrite',\n",
       "       u'createOption': u'FromImage',\n",
       "       u'name': u\"[concat('osdisk', copyindex())]\",\n",
       "       u'vhd': {u'uri': u\"[concat('http://',variables('storageAccountName'),'.blob.core.windows.net/',variables('vmStorageAccountContainerName'),'/', variables('osDiskName'), copyindex(), '.vhd')]\"}}}},\n",
       "    u'type': u'Microsoft.Compute/virtualMachines'}],\n",
       "  u'variables': {u'addressPrefix': u'10.0.0.0/16',\n",
       "   u'apiVersion': u'2015-06-15',\n",
       "   u'imageOffer': u'UbuntuServer',\n",
       "   u'imagePublisher': u'Canonical',\n",
       "   u'location': u'[resourceGroup().location]',\n",
       "   u'networkSecurityGroupName': u'networkSecurityGroup1',\n",
       "   u'nicName': u'sshNIC',\n",
       "   u'osDiskName': u'osDisk1',\n",
       "   u'publicIPAddressName': u'sshPublicIP',\n",
       "   u'publicIPAddressType': u'Dynamic',\n",
       "   u'sshKeyPath': u\"[concat('/home/',parameters('adminUserName'),'/.ssh/authorized_keys')]\",\n",
       "   u'storageAccountName': u\"[concat(uniquestring(resourceGroup().id), 'sasshvm')]\",\n",
       "   u'storageAccountType': u'Premium_LRS',\n",
       "   u'subnet1Name': u'Subnet-1',\n",
       "   u'subnet1Prefix': u'10.0.0.0/24',\n",
       "   u'subnet1Ref': u\"[concat(variables('vnetID'),'/subnets/',variables('subnet1Name'))]\",\n",
       "   u'ubuntuOSVersion': u'14.04.4-LTS',\n",
       "   u'uniqueDnsLabelPrefix': u\"[concat('store', uniquestring(resourceGroup().id))]\",\n",
       "   u'virtualNetworkName': u'sshVNET',\n",
       "   u'vmName': u'sshvm',\n",
       "   u'vmSize': u'Standard_DS2',\n",
       "   u'vmStorageAccountContainerName': u'vhds',\n",
       "   u'vnetID': u\"[resourceId('Microsoft.Network/virtualNetworks', variables('virtualNetworkName'))]\"}},\n",
       " u'etc': [],\n",
       " u'metadata': {u'dateUpdated': u'2015-06-05',\n",
       "  u'description': u'This template allows you to create a Virtual Machine with SSH rsa public key',\n",
       "  u'githubUsername': u'squillace',\n",
       "  u'itemDisplayName': u'Deploy a Virtual Machine with SSH rsa public key',\n",
       "  u'summary': u'Deploy a Virtual Machine with SSH rsa public key'},\n",
       " u'nested': u'',\n",
       " u'parameters': {u'$schema': u'http://schema.management.azure.com/schemas/2015-01-01/deploymentParameters.json#',\n",
       "  u'contentVersion': u'1.0.0.0',\n",
       "  u'parameters': {u'adminUsername': {u'value': 'simpleazure'},\n",
       "   u'numberOfInstances': {u'value': 3},\n",
       "   u'sshKeyData': {u'value': u'ssh-rsa AAAAB...<skipped>... hroe.lee@simpleazure'}}},\n",
       " u'scripts': u''}"
      ]
     },
     "execution_count": 69,
     "metadata": {},
     "output_type": "execute_result"
    }
   ],
   "source": [
    "saz.arm.export_template()"
   ]
  },
  {
   "cell_type": "markdown",
   "metadata": {},
   "source": [
    "export_template() returns Simple Azure Template class object.\n",
    "\n",
    "Therefore if you'd like to obtain a deploy template only (like azuredeploy.json), then use ['``azuredeploy``'] like:"
   ]
  },
  {
   "cell_type": "code",
   "execution_count": 71,
   "metadata": {
    "collapsed": false,
    "scrolled": true
   },
   "outputs": [
    {
     "data": {
      "text/plain": [
       "{u'$schema': u'http://schema.management.azure.com/schemas/2014-04-01-preview/deploymentTemplate.json',\n",
       " u'contentVersion': u'1.0.0.0',\n",
       " u'outputs': {u'sshCommand': {u'type': u'string',\n",
       "   u'value': u\"[concat('ssh ', parameters('adminUsername'), '@', variables('uniqueDnsLabelPrefix'), '.', resourceGroup().location, '.cloudapp.azure.com')]\"}},\n",
       " u'parameters': {u'adminUserName': {u'defaultValue': u'azureuser',\n",
       "   u'metadata': {u'description': u'User name for the Virtual Machine.'},\n",
       "   u'type': u'string'},\n",
       "  u'numberOfInstances': {u'defaultValue': 3,\n",
       "   u'metadata': {u'description': u'Number of Instances to start'},\n",
       "   u'type': u'int'},\n",
       "  u'sshKeyData': {u'metadata': {u'description': u'SSH rsa public key file as a string.'},\n",
       "   u'type': u'string'}},\n",
       " u'resources': [{u'apiVersion': u\"[variables('apiVersion')]\",\n",
       "   u'location': u\"[variables('location')]\",\n",
       "   u'name': u\"[variables('storageAccountName')]\",\n",
       "   u'properties': {u'accountType': u\"[variables('storageAccountType')]\"},\n",
       "   u'type': u'Microsoft.Storage/storageAccounts'},\n",
       "  {u'apiVersion': u\"[variables('apiVersion')]\",\n",
       "   u'location': u\"[variables('location')]\",\n",
       "   u'name': u\"[variables('networkSecurityGroupName')]\",\n",
       "   u'properties': {u'securityRules': [{u'name': u'ssh_rule',\n",
       "      u'properties': {u'access': u'Allow',\n",
       "       u'description': u'Locks inbound down to ssh default port 22.',\n",
       "       u'destinationAddressPrefix': u'*',\n",
       "       u'destinationPortRange': u'22',\n",
       "       u'direction': u'Inbound',\n",
       "       u'priority': 123,\n",
       "       u'protocol': u'Tcp',\n",
       "       u'sourceAddressPrefix': u'*',\n",
       "       u'sourcePortRange': u'*'}}]},\n",
       "   u'type': u'Microsoft.Network/networkSecurityGroups'},\n",
       "  {u'apiVersion': u\"[variables('apiVersion')]\",\n",
       "   u'copy': {u'count': u\"[parameters('numberOfInstances')]\",\n",
       "    u'name': u'ipLoop'},\n",
       "   u'location': u\"[variables('location')]\",\n",
       "   u'name': u\"[concat(variables('publicIPAddressName'), copyindex())]\",\n",
       "   u'properties': {u'dnsSettings': {u'domainNameLabel': u\"[concat(variables('uniqueDnsLabelPrefix'), copyindex())]\"},\n",
       "    u'publicIPAllocationMethod': u\"[variables('publicIPAddressType')]\"},\n",
       "   u'type': u'Microsoft.Network/publicIPAddresses'},\n",
       "  {u'apiVersion': u\"[variables('apiVersion')]\",\n",
       "   u'dependsOn': [u\"[concat('Microsoft.Network/networkSecurityGroups/', variables('networkSecurityGroupName'))]\"],\n",
       "   u'location': u\"[variables('location')]\",\n",
       "   u'name': u\"[variables('virtualNetworkName')]\",\n",
       "   u'properties': {u'addressSpace': {u'addressPrefixes': [u\"[variables('addressPrefix')]\"]},\n",
       "    u'subnets': [{u'name': u\"[variables('subnet1Name')]\",\n",
       "      u'properties': {u'addressPrefix': u\"[variables('subnet1Prefix')]\",\n",
       "       u'networkSecurityGroup': {u'id': u\"[resourceId('Microsoft.Network/networkSecurityGroups', variables('networkSecurityGroupName'))]\"}}}]},\n",
       "   u'type': u'Microsoft.Network/virtualNetworks'},\n",
       "  {u'apiVersion': u\"[variables('apiVersion')]\",\n",
       "   u'copy': {u'count': u\"[parameters('numberOfInstances')]\",\n",
       "    u'name': u'nicLoop'},\n",
       "   u'dependsOn': [u\"[concat('Microsoft.Network/publicIPAddresses/', concat(variables('publicIPAddressName'), copyindex()))]\",\n",
       "    u\"[concat('Microsoft.Network/virtualNetworks/', variables('virtualNetworkName'))]\"],\n",
       "   u'location': u\"[variables('location')]\",\n",
       "   u'name': u\"[concat(variables('nicName'), copyindex())]\",\n",
       "   u'properties': {u'ipConfigurations': [{u'name': u'ipconfig1',\n",
       "      u'properties': {u'privateIPAllocationMethod': u'Dynamic',\n",
       "       u'publicIPAddress': {u'id': u\"[resourceId('Microsoft.Network/publicIPAddresses', concat(variables('publicIPAddressName'), copyindex()))]\"},\n",
       "       u'subnet': {u'id': u\"[variables('subnet1Ref')]\"}}}]},\n",
       "   u'type': u'Microsoft.Network/networkInterfaces'},\n",
       "  {u'apiVersion': u\"[variables('apiVersion')]\",\n",
       "   u'copy': {u'count': u\"[parameters('numberOfInstances')]\",\n",
       "    u'name': u'virtualMachineLoop'},\n",
       "   u'dependsOn': [u\"[concat('Microsoft.Storage/storageAccounts/', variables('storageAccountName'))]\",\n",
       "    u\"[concat('Microsoft.Network/networkInterfaces/', concat(variables('nicName'), copyindex()))]\"],\n",
       "   u'location': u\"[variables('location')]\",\n",
       "   u'name': u\"[concat(variables('vmName'), copyindex())]\",\n",
       "   u'properties': {u'hardwareProfile': {u'vmSize': u\"[variables('vmSize')]\"},\n",
       "    u'networkProfile': {u'networkInterfaces': [{u'id': u\"[resourceId('Microsoft.Network/networkInterfaces', concat(variables('nicName'), copyindex()))]\"}]},\n",
       "    u'osProfile': {u'adminUsername': u\"[parameters('adminUserName')]\",\n",
       "     u'computerName': u\"[concat(variables('vmName'), copyindex())]\",\n",
       "     u'linuxConfiguration': {u'disablePasswordAuthentication': u'true',\n",
       "      u'ssh': {u'publicKeys': [{u'keyData': u\"[parameters('sshKeyData')]\",\n",
       "         u'path': u\"[variables('sshKeyPath')]\"}]}}},\n",
       "    u'storageProfile': {u'imageReference': {u'offer': u\"[variables('imageOffer')]\",\n",
       "      u'publisher': u\"[variables('imagePublisher')]\",\n",
       "      u'sku': u\"[variables('ubuntuOSVersion')]\",\n",
       "      u'version': u'latest'},\n",
       "     u'osDisk': {u'caching': u'ReadWrite',\n",
       "      u'createOption': u'FromImage',\n",
       "      u'name': u\"[concat('osdisk', copyindex())]\",\n",
       "      u'vhd': {u'uri': u\"[concat('http://',variables('storageAccountName'),'.blob.core.windows.net/',variables('vmStorageAccountContainerName'),'/', variables('osDiskName'), copyindex(), '.vhd')]\"}}}},\n",
       "   u'type': u'Microsoft.Compute/virtualMachines'}],\n",
       " u'variables': {u'addressPrefix': u'10.0.0.0/16',\n",
       "  u'apiVersion': u'2015-06-15',\n",
       "  u'imageOffer': u'UbuntuServer',\n",
       "  u'imagePublisher': u'Canonical',\n",
       "  u'location': u'[resourceGroup().location]',\n",
       "  u'networkSecurityGroupName': u'networkSecurityGroup1',\n",
       "  u'nicName': u'sshNIC',\n",
       "  u'osDiskName': u'osDisk1',\n",
       "  u'publicIPAddressName': u'sshPublicIP',\n",
       "  u'publicIPAddressType': u'Dynamic',\n",
       "  u'sshKeyPath': u\"[concat('/home/',parameters('adminUserName'),'/.ssh/authorized_keys')]\",\n",
       "  u'storageAccountName': u\"[concat(uniquestring(resourceGroup().id), 'sasshvm')]\",\n",
       "  u'storageAccountType': u'Premium_LRS',\n",
       "  u'subnet1Name': u'Subnet-1',\n",
       "  u'subnet1Prefix': u'10.0.0.0/24',\n",
       "  u'subnet1Ref': u\"[concat(variables('vnetID'),'/subnets/',variables('subnet1Name'))]\",\n",
       "  u'ubuntuOSVersion': u'14.04.4-LTS',\n",
       "  u'uniqueDnsLabelPrefix': u\"[concat('store', uniquestring(resourceGroup().id))]\",\n",
       "  u'virtualNetworkName': u'sshVNET',\n",
       "  u'vmName': u'sshvm',\n",
       "  u'vmSize': u'Standard_DS2',\n",
       "  u'vmStorageAccountContainerName': u'vhds',\n",
       "  u'vnetID': u\"[resourceId('Microsoft.Network/virtualNetworks', variables('virtualNetworkName'))]\"}}"
      ]
     },
     "execution_count": 71,
     "metadata": {},
     "output_type": "execute_result"
    }
   ],
   "source": [
    "saz.arm.export_template()['azuredeploy']"
   ]
  },
  {
   "cell_type": "markdown",
   "metadata": {},
   "source": [
    "This does not include parameter settings that you specified e.g. adminUserame, numberOfInstances and sshKeyData.\n",
    "\n",
    "Use ['parameters'] if you'd like to obtain a template for parameters like azuredeploy.parameters.json."
   ]
  },
  {
   "cell_type": "code",
   "execution_count": 72,
   "metadata": {
    "collapsed": false
   },
   "outputs": [
    {
     "data": {
      "text/plain": [
       "{u'$schema': u'http://schema.management.azure.com/schemas/2015-01-01/deploymentParameters.json#',\n",
       " u'contentVersion': u'1.0.0.0',\n",
       " u'parameters': {u'adminUsername': {u'value': 'simpleazure'},\n",
       "  u'numberOfInstances': {u'value': 3},\n",
       "  u'sshKeyData': {u'value': u'ssh-rsa AAAAB...<skipped>... hroe.lee@simpleazure'}}}"
      ]
     },
     "execution_count": 72,
     "metadata": {},
     "output_type": "execute_result"
    }
   ],
   "source": [
    "saz.arm.export_template()['parameters']"
   ]
  },
  {
   "cell_type": "markdown",
   "metadata": {},
   "source": [
    "### Save to a File"
   ]
  },
  {
   "cell_type": "markdown",
   "metadata": {},
   "source": [
    "Provide a filepath to store."
   ]
  },
  {
   "cell_type": "code",
   "execution_count": null,
   "metadata": {
    "collapsed": true
   },
   "outputs": [],
   "source": [
    "saz.arm.export_template().save(\"/home/jovyan/work/files/updated_template_for_3vms.json\")"
   ]
  },
  {
   "cell_type": "markdown",
   "metadata": {},
   "source": [
    "## Terminate All Resources"
   ]
  },
  {
   "cell_type": "markdown",
   "metadata": {},
   "source": [
    "Removing a resource group deletes all deployed resources. Warning: it may cause other issues if you have multiple deployments."
   ]
  },
  {
   "cell_type": "code",
   "execution_count": 70,
   "metadata": {
    "collapsed": false
   },
   "outputs": [
    {
     "data": {
      "text/plain": [
       "<msrestazure.azure_operation.AzureOperationPoller at 0x7fd7932d1410>"
      ]
     },
     "execution_count": 70,
     "metadata": {},
     "output_type": "execute_result"
    }
   ],
   "source": [
    "saz.arm.remove_resource_group()"
   ]
  },
  {
   "cell_type": "markdown",
   "metadata": {},
   "source": [
    "Template is useful to reproduce infrastructure and Azure QuickStart Templates shares well developed community templates.\n",
    "Simple Azure offers Template loading/editing/exporting in Python therefore Azure Template users can use, modify and save their work on Templates.\n",
    "\n",
    "Simple Azure is under development which means that new features are added constantly, please report any issues on Github and give any feedbacks to improve.\n",
    "\n",
    "In the next tutorial, we will explore how to deploy software stacks after provisiong infrastructure. Ansible automation tool is also introduced."
   ]
  }
 ],
 "metadata": {
  "kernelspec": {
   "display_name": "Python 2",
   "language": "python",
   "name": "python2"
  },
  "language_info": {
   "codemirror_mode": {
    "name": "ipython",
    "version": 2
   },
   "file_extension": ".py",
   "mimetype": "text/x-python",
   "name": "python",
   "nbconvert_exporter": "python",
   "pygments_lexer": "ipython2",
   "version": "2.7.12"
  }
 },
 "nbformat": 4,
 "nbformat_minor": 1
}
