{
 "metadata": {
  "name": "Tutorial - Installing IPython on Windows Azure Virtual Machines and configuring clustering"
 },
 "nbformat": 3,
 "nbformat_minor": 0,
 "worksheets": [
  {
   "cells": [
    {
     "cell_type": "markdown",
     "metadata": {},
     "source": "# Installing IPython on Windows Azure Virtual Machines \n\nOnce we deployed a linux VM on Windows Azure, we can install ipython and related packages.  \nParamiko Python package provides ssh connections on Python, we can install libraries and softwares with apt-get and pip packaging tools.\n<!--\nIPython on Windows Azure requires following items:\n\n    - open port\n    - install related libraries\n-->"
    },
    {
     "cell_type": "code",
     "collapsed": false,
     "input": "import paramiko, base64\nimport os\n\nhostname=\"myvm-81fd6840ae.cloudapp.net\"\nusername=\"azureuser\"\nuserpass=\"mypassword1234@\"\nserver=hostname\npath_to_priv_key_file=\"/home/azureuser/.azure/.ssh/myPrivateKey.key\"#\"~/.azure/.ssh/myPrivateKey.key\"",
     "language": "python",
     "metadata": {},
     "outputs": [],
     "prompt_number": 1
    },
    {
     "cell_type": "markdown",
     "metadata": {},
     "source": "## Paramiko SSH connection to a master node"
    },
    {
     "cell_type": "code",
     "collapsed": false,
     "input": "client = paramiko.SSHClient()\nclient.set_missing_host_key_policy(paramiko.AutoAddPolicy())\nclient.load_host_keys(os.path.expanduser(os.path.join(\"~\", \".ssh\", \"known_hosts\")))\nprivkey = paramiko.RSAKey.from_private_key_file(path_to_priv_key_file)\nclient.connect(server, username=username, key_filename=path_to_priv_key_file,pkey=privkey)",
     "language": "python",
     "metadata": {},
     "outputs": []
    },
    {
     "cell_type": "markdown",
     "metadata": {},
     "source": "## Test ssh connection with ls command\nLet's try to execute ls / command on a remote machine."
    },
    {
     "cell_type": "code",
     "collapsed": false,
     "input": "stdin, stdout, stderr = client.exec_command('ls /')\nfor line in stdout:\n        print '... ' + line.strip('\\n')\nprint \"output\", stdout.read() #Reading output of the executed command\nerror = stderr.read()\n#Reading the error stream of the executed command\nprint \"err\", error, len(error) ",
     "language": "python",
     "metadata": {},
     "outputs": [
      {
       "output_type": "stream",
       "stream": "stdout",
       "text": "... bin\n... boot\n... dev\n... etc\n... home\n... initrd.img\n... lib\n... lib64\n... lost+found\n... media\n... mnt\n... opt\n... proc\n... root\n... run\n... sbin\n... selinux\n... srv\n... sys\n... tmp\n... usr\n... var\n... vmlinuz\noutput \nerr  0\n"
      }
     ],
     "prompt_number": 76
    },
    {
     "cell_type": "markdown",
     "metadata": {},
     "source": "## Install ipython notebook with apt-get packaging tool\nThis requires an administrator privilege to install the package."
    },
    {
     "cell_type": "code",
     "collapsed": false,
     "input": "ssh=client\nstdin, stdout, stderr = ssh.exec_command(\"echo %s|sudo -S apt-get -y install ipython-notebook\" % userpass)\nfor line in stdout:\n        print '... ' + line.strip('\\n')",
     "language": "python",
     "metadata": {},
     "outputs": [
      {
       "output_type": "stream",
       "stream": "stdout",
       "text": "... Reading package lists...\n... Building dependency tree..."
      },
      {
       "output_type": "stream",
       "stream": "stdout",
       "text": "\n... Reading state information...\n... The following extra packages will be installed:"
      },
      {
       "output_type": "stream",
       "stream": "stdout",
       "text": "\n...   ipython javascript-common libjs-jquery-ui libjs-mathjax libjs-underscore\n...   libmysqlclient18 libpgm-5.1-0 libzmq1 mysql-common python-decorator\n...   python-mysqldb python-pexpect python-simplegeneric python-support\n...   python-tornado python-zmq wwwconfig-common\n... Suggested packages:\n...   ipython-doc ipython-qtconsole python-matplotlib python-numpy apache2 httpd\n...   libjs-jquery-ui-docs python-egenix-mxdatetime mysql-server-5.1 mysql-server\n...   python-mysqldb-dbg mysql-client postgresql-client\n... The following NEW packages will be installed:\n...   ipython ipython-notebook javascript-common libjs-jquery-ui libjs-mathjax\n...   libjs-underscore libmysqlclient18 libpgm-5.1-0 libzmq1 mysql-common\n...   python-decorator python-mysqldb python-pexpect python-simplegeneric\n...   python-support python-tornado python-zmq wwwconfig-common\n... 0 upgraded, 18 newly installed, 0 to remove and 0 not upgraded."
      },
      {
       "output_type": "stream",
       "stream": "stdout",
       "text": "\n... Need to get 10.3 MB of archives.\n... After this operation, 30.7 MB of additional disk space will be used.\n... Get:1 http://azure.archive.ubuntu.com/ubuntu/ precise-updates/main mysql-common all 5.5.31-0ubuntu0.12.04.2 [13.1 kB]\n... Get:2 http://azure.archive.ubuntu.com/ubuntu/ precise-updates/main libmysqlclient18 amd64 5.5.31-0ubuntu0.12.04.2 [944 kB]"
      },
      {
       "output_type": "stream",
       "stream": "stdout",
       "text": "\n... Get:3 http://azure.archive.ubuntu.com/ubuntu/ precise/main python-decorator all 3.3.2-1 [21.2 kB]"
      },
      {
       "output_type": "stream",
       "stream": "stdout",
       "text": "\n... Get:4 http://azure.archive.ubuntu.com/ubuntu/ precise/main python-pexpect all 2.3-1ubuntu2 [165 kB]"
      },
      {
       "output_type": "stream",
       "stream": "stdout",
       "text": "\n... Get:5 http://azure.archive.ubuntu.com/ubuntu/ precise/universe python-support all 1.0.14ubuntu2 [26.1 kB]"
      },
      {
       "output_type": "stream",
       "stream": "stdout",
       "text": "\n... Get:6 http://azure.archive.ubuntu.com/ubuntu/ precise/universe python-simplegeneric all 0.7-1build1 [9,718 B]\n... Get:7 http://azure.archive.ubuntu.com/ubuntu/ precise/universe ipython all 0.12.1+dfsg-0ubuntu1 [629 kB]"
      },
      {
       "output_type": "stream",
       "stream": "stdout",
       "text": "\n... Get:8 http://azure.archive.ubuntu.com/ubuntu/ precise/universe libjs-jquery-ui all 1.8.ooops.18+dfsg-1 [322 kB]"
      },
      {
       "output_type": "stream",
       "stream": "stdout",
       "text": "\n... Get:9 http://azure.archive.ubuntu.com/ubuntu/ precise/main libjs-underscore all 1.1.6-1ubuntu2 [31.3 kB]"
      },
      {
       "output_type": "stream",
       "stream": "stdout",
       "text": "\n... Get:10 http://azure.archive.ubuntu.com/ubuntu/ precise/universe libjs-mathjax all 1.1-1 [7,071 kB]"
      },
      {
       "output_type": "stream",
       "stream": "stdout",
       "text": "\n... Get:11 http://azure.archive.ubuntu.com/ubuntu/ precise-updates/universe python-tornado all 2.1.0-2ubuntu0.1 [229 kB]"
      },
      {
       "output_type": "stream",
       "stream": "stdout",
       "text": "\n... Get:12 http://azure.archive.ubuntu.com/ubuntu/ precise/universe libpgm-5.1-0 amd64 5.1.116~dfsg-2 [182 kB]"
      },
      {
       "output_type": "stream",
       "stream": "stdout",
       "text": "\n... Get:13 http://azure.archive.ubuntu.com/ubuntu/ precise/universe libzmq1 amd64 2.1.11-1ubuntu1 [109 kB]"
      },
      {
       "output_type": "stream",
       "stream": "stdout",
       "text": "\n... Get:14 http://azure.archive.ubuntu.com/ubuntu/ precise/universe python-zmq amd64 2.1.11-1 [229 kB]\n... Get:15 http://azure.archive.ubuntu.com/ubuntu/ precise/universe ipython-notebook all 0.12.1+dfsg-0ubuntu1 [216 kB]"
      },
      {
       "output_type": "stream",
       "stream": "stdout",
       "text": "\n... Get:16 http://azure.archive.ubuntu.com/ubuntu/ precise/universe wwwconfig-common all 0.2.2 [18.0 kB]"
      },
      {
       "output_type": "stream",
       "stream": "stdout",
       "text": "\n... Get:17 http://azure.archive.ubuntu.com/ubuntu/ precise/universe javascript-common all 8 [4,208 B]"
      },
      {
       "output_type": "stream",
       "stream": "stdout",
       "text": "\n... Get:18 http://azure.archive.ubuntu.com/ubuntu/ precise-updates/main python-mysqldb amd64 1.2.3-1ubuntu0.1 [64.0 kB]\n... Fetched 10.3 MB in 4s (2,561 kB/s)"
      },
      {
       "output_type": "stream",
       "stream": "stdout",
       "text": "\n... Selecting previously unselected package mysql-common."
      },
      {
       "output_type": "stream",
       "stream": "stdout",
       "text": "\n... (Reading database ... 50808 files and directories currently installed.)\n... Unpacking mysql-common (from .../mysql-common_5.5.31-0ubuntu0.12.04.2_all.deb) ..."
      },
      {
       "output_type": "stream",
       "stream": "stdout",
       "text": "\n... Selecting previously unselected package libmysqlclient18."
      },
      {
       "output_type": "stream",
       "stream": "stdout",
       "text": "\n... Unpacking libmysqlclient18 (from .../libmysqlclient18_5.5.31-0ubuntu0.12.04.2_amd64.deb) ...\n... Selecting previously unselected package python-decorator."
      },
      {
       "output_type": "stream",
       "stream": "stdout",
       "text": "\n... Unpacking python-decorator (from .../python-decorator_3.3.2-1_all.deb) ...\n... Selecting previously unselected package python-pexpect."
      },
      {
       "output_type": "stream",
       "stream": "stdout",
       "text": "\n... Unpacking python-pexpect (from .../python-pexpect_2.3-1ubuntu2_all.deb) ...\n... Selecting previously unselected package python-support."
      },
      {
       "output_type": "stream",
       "stream": "stdout",
       "text": "\n... Unpacking python-support (from .../python-support_1.0.14ubuntu2_all.deb) ...\n... Selecting previously unselected package python-simplegeneric."
      },
      {
       "output_type": "stream",
       "stream": "stdout",
       "text": "\n... Unpacking python-simplegeneric (from .../python-simplegeneric_0.7-1build1_all.deb) ...\n... Selecting previously unselected package ipython."
      },
      {
       "output_type": "stream",
       "stream": "stdout",
       "text": "\n... Unpacking ipython (from .../ipython_0.12.1+dfsg-0ubuntu1_all.deb) ...\n... Selecting previously unselected package libjs-jquery-ui."
      },
      {
       "output_type": "stream",
       "stream": "stdout",
       "text": "\n... Unpacking libjs-jquery-ui (from .../libjs-jquery-ui_1.8.ooops.18+dfsg-1_all.deb) ...\n... Selecting previously unselected package libjs-underscore."
      },
      {
       "output_type": "stream",
       "stream": "stdout",
       "text": "\n... Unpacking libjs-underscore (from .../libjs-underscore_1.1.6-1ubuntu2_all.deb) ...\n... Selecting previously unselected package libjs-mathjax."
      },
      {
       "output_type": "stream",
       "stream": "stdout",
       "text": "\n... Unpacking libjs-mathjax (from .../libjs-mathjax_1.1-1_all.deb) ...\n... Selecting previously unselected package python-tornado."
      },
      {
       "output_type": "stream",
       "stream": "stdout",
       "text": "\n... Unpacking python-tornado (from .../python-tornado_2.1.0-2ubuntu0.1_all.deb) ...\n... Selecting previously unselected package libpgm-5.1-0."
      },
      {
       "output_type": "stream",
       "stream": "stdout",
       "text": "\n... Unpacking libpgm-5.1-0 (from .../libpgm-5.1-0_5.1.116~dfsg-2_amd64.deb) ...\n... Selecting previously unselected package libzmq1."
      },
      {
       "output_type": "stream",
       "stream": "stdout",
       "text": "\n... Unpacking libzmq1 (from .../libzmq1_2.1.11-1ubuntu1_amd64.deb) ...\n... Selecting previously unselected package python-zmq."
      },
      {
       "output_type": "stream",
       "stream": "stdout",
       "text": "\n... Unpacking python-zmq (from .../python-zmq_2.1.11-1_amd64.deb) ...\n... Selecting previously unselected package ipython-notebook."
      },
      {
       "output_type": "stream",
       "stream": "stdout",
       "text": "\n... Unpacking ipython-notebook (from .../ipython-notebook_0.12.1+dfsg-0ubuntu1_all.deb) ...\n... Selecting previously unselected package wwwconfig-common."
      },
      {
       "output_type": "stream",
       "stream": "stdout",
       "text": "\n... Unpacking wwwconfig-common (from .../wwwconfig-common_0.2.2_all.deb) ...\n... Selecting previously unselected package javascript-common."
      },
      {
       "output_type": "stream",
       "stream": "stdout",
       "text": "\n... Unpacking javascript-common (from .../javascript-common_8_all.deb) ...\n... Selecting previously unselected package python-mysqldb."
      },
      {
       "output_type": "stream",
       "stream": "stdout",
       "text": "\n... Unpacking python-mysqldb (from .../python-mysqldb_1.2.3-1ubuntu0.1_amd64.deb) ...\n... Processing triggers for man-db ..."
      },
      {
       "output_type": "stream",
       "stream": "stdout",
       "text": "\n... Setting up mysql-common (5.5.31-0ubuntu0.12.04.2) ..."
      },
      {
       "output_type": "stream",
       "stream": "stdout",
       "text": "\n... Setting up libmysqlclient18 (5.5.31-0ubuntu0.12.04.2) ..."
      },
      {
       "output_type": "stream",
       "stream": "stdout",
       "text": "\n... Setting up python-decorator (3.3.2-1) ..."
      },
      {
       "output_type": "stream",
       "stream": "stdout",
       "text": "\n... Setting up python-pexpect (2.3-1ubuntu2) ..."
      },
      {
       "output_type": "stream",
       "stream": "stdout",
       "text": "\n... Setting up python-support (1.0.14ubuntu2) ..."
      },
      {
       "output_type": "stream",
       "stream": "stdout",
       "text": "\n... Setting up python-simplegeneric (0.7-1build1) ..."
      },
      {
       "output_type": "stream",
       "stream": "stdout",
       "text": "\n... Setting up ipython (0.12.1+dfsg-0ubuntu1) ..."
      },
      {
       "output_type": "stream",
       "stream": "stdout",
       "text": "\n... Setting up libjs-jquery-ui (1.8.ooops.18+dfsg-1) ..."
      },
      {
       "output_type": "stream",
       "stream": "stdout",
       "text": "\n... Setting up libjs-underscore (1.1.6-1ubuntu2) ..."
      },
      {
       "output_type": "stream",
       "stream": "stdout",
       "text": "\n... Setting up libjs-mathjax (1.1-1) ..."
      },
      {
       "output_type": "stream",
       "stream": "stdout",
       "text": "\n... Setting up python-tornado (2.1.0-2ubuntu0.1) ..."
      },
      {
       "output_type": "stream",
       "stream": "stdout",
       "text": "\n... Setting up libpgm-5.1-0 (5.1.116~dfsg-2) ..."
      },
      {
       "output_type": "stream",
       "stream": "stdout",
       "text": "\n... Setting up libzmq1 (2.1.11-1ubuntu1) ..."
      },
      {
       "output_type": "stream",
       "stream": "stdout",
       "text": "\n... Setting up python-zmq (2.1.11-1) ..."
      },
      {
       "output_type": "stream",
       "stream": "stdout",
       "text": "\n... Setting up ipython-notebook (0.12.1+dfsg-0ubuntu1) ..."
      },
      {
       "output_type": "stream",
       "stream": "stdout",
       "text": "\n... Setting up wwwconfig-common (0.2.2) ..."
      },
      {
       "output_type": "stream",
       "stream": "stdout",
       "text": "\n... Setting up javascript-common (8) ..."
      },
      {
       "output_type": "stream",
       "stream": "stdout",
       "text": "\n... Setting up python-mysqldb (1.2.3-1ubuntu0.1) ..."
      },
      {
       "output_type": "stream",
       "stream": "stdout",
       "text": "\n... Processing triggers for libc-bin ..."
      },
      {
       "output_type": "stream",
       "stream": "stdout",
       "text": "\n... ldconfig deferred processing now taking place"
      },
      {
       "output_type": "stream",
       "stream": "stdout",
       "text": "\n... Processing triggers for python-support ..."
      },
      {
       "output_type": "stream",
       "stream": "stdout",
       "text": "\n"
      }
     ],
     "prompt_number": 77
    },
    {
     "cell_type": "markdown",
     "metadata": {},
     "source": "## Connect to a master and engine node(s)\nTo establish connections between the master and each engine node, the connectioin configuration file of IPController should be distributed.  \nUsing paramiko SSH connections, file sharing can be achieved.  \nLet's make a connection first."
    },
    {
     "cell_type": "code",
     "collapsed": false,
     "input": "master = \"myvm-81fd6840ae.cloudapp.net\"\nengines = [\"myvm-4406510ce8.cloudapp.net\"]",
     "language": "python",
     "metadata": {},
     "outputs": [],
     "prompt_number": 5
    },
    {
     "cell_type": "code",
     "collapsed": false,
     "input": "ssh_master = paramiko.SSHClient()\nssh_master.set_missing_host_key_policy(paramiko.AutoAddPolicy())\nssh_master.load_host_keys(os.path.expanduser(os.path.join(\"~\", \".ssh\", \"known_hosts\")))\nssh_master.connect(master, username=username,pkey=privkey)\n\nssh_engines = {}\nfor engine in engines:\n    ssh_engines[engine] = paramiko.SSHClient()\n    ssh_engines[engine].set_missing_host_key_policy(paramiko.AutoAddPolicy())\n    ssh_engines[engine].load_host_keys(os.path.expanduser(os.path.join(\"~\", \".ssh\", \"known_hosts\")))\n    ssh_engines[engine].connect(engine, username=username,pkey=privkey)",
     "language": "python",
     "metadata": {},
     "outputs": [],
     "prompt_number": 6
    },
    {
     "cell_type": "markdown",
     "metadata": {},
     "source": "## create a ssh profile on a master node\nBefore we are going to share the connection configuration file with master and each engine node, we simply create  a ssh profile on a master node.  \nIt allows to have a separated profile with others. Here, the profile is named 'ssh'.    \n\nBased on http://ipython.org/ipython-doc/dev/parallel/parallel_process.html"
    },
    {
     "cell_type": "code",
     "collapsed": false,
     "input": "profile=\"ssh\"\nstdin, stdout, stderr = ssh_master.exec_command('ipython profile create --parallel --profile=%s' % profile)",
     "language": "python",
     "metadata": {},
     "outputs": [],
     "prompt_number": 5
    },
    {
     "cell_type": "code",
     "collapsed": false,
     "input": "for line in stdout:\n        print '... ' + line.strip('\\n')\nprint \"output\", stdout.read() #Reading output of the executed command\nerror = stderr.read()\n#Reading the error stream of the executed command\nprint \"err\", error, len(error) ",
     "language": "python",
     "metadata": {},
     "outputs": [
      {
       "output_type": "stream",
       "stream": "stdout",
       "text": "output \nerr  0\n"
      }
     ],
     "prompt_number": 103
    },
    {
     "cell_type": "markdown",
     "metadata": {},
     "source": "## Run ipcontroller on a master node\nLet's start a IPython controller for parallel computing."
    },
    {
     "cell_type": "code",
     "collapsed": false,
     "input": "#ipcontroller --ip=`/sbin/ifconfig eth0 | grep \"inet addr\" | awk -F: '{print $2}' | awk '{print $1}'` --profile=ssh --port=50779 --enginessh=azureuser@myvm-81fd6840ae.cloudapp.net\nlocal_ip = \"/sbin/ifconfig eth0 | grep \\\"inet addr\\\" | awk -F: '{print $2}' | awk '{print $1}'\"\nssh_info = \"%s@%s\" % (username, master)",
     "language": "python",
     "metadata": {},
     "outputs": [],
     "prompt_number": 7
    },
    {
     "cell_type": "markdown",
     "metadata": {},
     "source": "### With a paramiko channel (socket) function\nTo execute a daemon (ipcontroller) process, we need to create and attache a socket to ssh.  \nParamiko's transport and channel allow to do that with non-blocking ssh."
    },
    {
     "cell_type": "code",
     "collapsed": false,
     "input": "#import select\ntransport = ssh_master.get_transport()\nchannel = transport.open_session()\nchannel.exec_command('ipcontroller --ip=`%s` --profile=%s --enginessh=%s' % (local_ip, profile, ssh_info))\n#while True:\n#  rl, wl, xl = select.select([channel],[],[],0.0)\n#  if len(rl) > 0:\n#      # Must be stdout\n#      print channel.recv(1024)",
     "language": "python",
     "metadata": {},
     "outputs": [],
     "prompt_number": 10
    },
    {
     "cell_type": "markdown",
     "metadata": {},
     "source": "## Copy ipcontroller-engine.json to engine node(s)\nOnce the ipcontroller executed on a master node, it generates a connection cofiguration file (ipcontroller-engine.json) on a master node.  \nThe connection file should be distributed to each engine node so the engine node(s) can get acccess information to the master node.  \n'scp' linux command is used to copy the file to engine node(s)."
    },
    {
     "cell_type": "code",
     "collapsed": false,
     "input": "ipengine_json_path = \"~/.ipython/profile_ssh/security/ipcontroller-engine.json\"\ntargeted_json_path = \"~/.ipython/%s-ipcontroller-engine.json\" % profile\nstdins, stdouts, stderrs = {}, {}, {}\nfor engine_name, ssh_engine in ssh_engines.iteritems():\n    stdins[engine_name], stdouts[engine_name], stderrs[engine_name] = ssh_engine.exec_command('scp %s:%s %s' % (ssh_info, ipengine_json_path, targeted_path))",
     "language": "python",
     "metadata": {},
     "outputs": [],
     "prompt_number": 26
    },
    {
     "cell_type": "code",
     "collapsed": false,
     "input": "for name, stdout in stdouts.iteritems():\n    print \"=\"*30\n    print name\n    for line in stdout:\n            print '... ' + line.strip('\\n')\n    print \"output\", stdout.read() #Reading output of the executed command\n    for name, stderr in stderrs.iteritems():\n        error = stderr.read()\n        #Reading the error stream of the executed command\n        print \"err\", error, len(error) \n    print \"=\"*30",
     "language": "python",
     "metadata": {},
     "outputs": [
      {
       "output_type": "stream",
       "stream": "stdout",
       "text": "====================\nmyvm-4406510ce8.cloudapp.net\noutput \nerr  0\n====================\n"
      }
     ],
     "prompt_number": 33
    },
    {
     "cell_type": "markdown",
     "metadata": {},
     "source": "## Run ipengine on each engine node\nNext step is to run ipengine on each engine node with the connection configuration file."
    },
    {
     "cell_type": "code",
     "collapsed": false,
     "input": "for engine_name, ssh_engine in ssh_engines.iteritems():\n    ssh_engine.exec_command('ipengine --file=%s' % targeted_json_path)",
     "language": "python",
     "metadata": {},
     "outputs": [],
     "prompt_number": 37
    },
    {
     "cell_type": "markdown",
     "metadata": {},
     "source": "Note.\n\nTo execute ipcluster functions on a master node, ipython notebook should be running on the master node and a user need to perform computation on the Ipython Notebook."
    },
    {
     "cell_type": "markdown",
     "metadata": {},
     "source": "## Test IPEngine\nIf we successfully connected a master and engine node(s), we can try to use cluster functions."
    },
    {
     "cell_type": "code",
     "collapsed": false,
     "input": "from IPython.parallel import Client",
     "language": "python",
     "metadata": {},
     "outputs": [],
     "prompt_number": 54
    },
    {
     "cell_type": "code",
     "collapsed": false,
     "input": "c = Client(url_or_file=\"/home/azureuser/.ipython/ssh-ipcontroller-client.json\", sshserver=\"%s@%s\" % (username, master), sshkey=path_to_priv_key_file)\nc.ids",
     "language": "python",
     "metadata": {},
     "outputs": []
    },
    {
     "cell_type": "markdown",
     "metadata": {},
     "source": "<!--\n- Open a web port for ipython notebook on a master node\n- create credentials\n- start ipython notebook\n-->"
    }
   ],
   "metadata": {}
  }
 ]
}